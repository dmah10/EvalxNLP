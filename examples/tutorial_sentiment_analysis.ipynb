{
  "cells": [
    {
      "cell_type": "markdown",
      "metadata": {},
      "source": [
        "## How to Use EvalxNLP Framework for Sentiment Analysis – A Beginner-Friendly Guide 🚀"
      ]
    },
    {
      "cell_type": "markdown",
      "metadata": {},
      "source": [
        "#### What is EvalxNLP?\n",
        "\n",
        "Imagine you have a sentiment analysis model that predicts whether a sentence is positive, neutral, or negative. But how does it know what makes a sentence negative? Does it focus on the right words?\n",
        "\n",
        "That’s where EvalxNLP helps! 🦊\n",
        "\n",
        "✅ EvalxNLP explains model predictions by showing which words had the most impact.\n",
        "\n",
        "✅ Helps you trust the model’s decisions.\n",
        "\n",
        "✅ Useful for debugging why your model makes mistakes."
      ]
    },
    {
      "cell_type": "code",
      "execution_count": null,
      "metadata": {},
      "outputs": [
        {
          "name": "stderr",
          "output_type": "stream",
          "text": [
            "d:\\EvalxNLP\\venv32\\Lib\\site-packages\\tqdm\\auto.py:21: TqdmWarning: IProgress not found. Please update jupyter and ipywidgets. See https://ipywidgets.readthedocs.io/en/stable/user_install.html\n",
            "  from .autonotebook import tqdm as notebook_tqdm\n"
          ]
        }
      ],
      "source": [
        "import sys\n",
        "sys.path.append('..')\n",
        "from XAIbenchmark import XAIFramework\n",
        "import warnings\n",
        "\n",
        "warnings.filterwarnings(\"ignore\")"
      ]
    },
    {
      "cell_type": "code",
      "execution_count": null,
      "metadata": {},
      "outputs": [],
      "source": [
        "%load_ext autoreload\n",
        "%autoreload 2"
      ]
    },
    {
      "cell_type": "markdown",
      "metadata": {},
      "source": [
        "#### Single Sentence"
      ]
    },
    {
      "cell_type": "markdown",
      "metadata": {},
      "source": [
        "Step 1: Load a pre-trained Sentiment Model, and Tokenizer"
      ]
    },
    {
      "cell_type": "code",
      "execution_count": 32,
      "metadata": {},
      "outputs": [],
      "source": [
        "from transformers import AutoModelForSequenceClassification, AutoTokenizer\n",
        "\n",
        "model_name = \"cardiffnlp/twitter-xlm-roberta-base-sentiment\"\n",
        "tokenizer = AutoTokenizer.from_pretrained(model_name)\n",
        "model = AutoModelForSequenceClassification.from_pretrained(model_name)"
      ]
    },
    {
      "cell_type": "markdown",
      "metadata": {},
      "source": [
        "Step 2: Optionally initialize the explainers, and evaluators"
      ]
    },
    {
      "cell_type": "code",
      "execution_count": 4,
      "metadata": {},
      "outputs": [],
      "source": [
        "import torch\n",
        "from explainers import InputXGradientExplainer, IntegratedGradientsExplainer, DeepLiftExplainer, LimeExplainer, SHAPExplainer, SHAPIQExplainer, GuidedBackpropExplainer\n",
        "device = \"cuda\" if torch.cuda.is_available() else \"cpu\"\n",
        "ig= IntegratedGradientsExplainer(model,tokenizer,device)\n",
        "gb= GuidedBackpropExplainer(model,tokenizer,device)\n",
        "dl= DeepLiftExplainer(model,tokenizer,device)\n",
        "ixg= InputXGradientExplainer(model,tokenizer,device,multiply_by_inputs=True)\n",
        "g= InputXGradientExplainer(model,tokenizer,device,multiply_by_inputs=False)\n",
        "lime= LimeExplainer(model,tokenizer)\n",
        "shap= SHAPExplainer(model,tokenizer)\n",
        "shapiq= SHAPIQExplainer(model,tokenizer)"
      ]
    },
    {
      "cell_type": "code",
      "execution_count": 5,
      "metadata": {},
      "outputs": [],
      "source": [
        "from evaluators import AUCTPEvaluator, SoftComprehensivenessEvaluator, SoftSufficiencyEvaluator, FADEvaluator, SparsenessEvaluator, ComplexityEvaluator, IOUF1Evaluator,TokenF1Evaluator, AUPRCEvaluator\n",
        "\n",
        "sc= SoftComprehensivenessEvaluator(model,tokenizer,device)\n",
        "ss= SoftSufficiencyEvaluator(model,tokenizer,device)\n",
        "fad= FADEvaluator(model,tokenizer,device)\n",
        "sp= SparsenessEvaluator(model,tokenizer,device)\n",
        "cx= ComplexityEvaluator(model,tokenizer,device)\n",
        "auctp= AUCTPEvaluator(model,tokenizer,device)\n",
        "iou_f1= IOUF1Evaluator(model,tokenizer,device)\n",
        "token_f1= TokenF1Evaluator(model,tokenizer,device)\n",
        "auprc= AUPRCEvaluator(model,tokenizer,device)"
      ]
    },
    {
      "cell_type": "markdown",
      "metadata": {},
      "source": [
        "Step 3: Inialize XAIBenchmark Class"
      ]
    },
    {
      "cell_type": "code",
      "execution_count": 6,
      "metadata": {},
      "outputs": [],
      "source": [
        "xai_framework = XAIFramework(model, tokenizer,explainers=[g], evaluators=[cx,sc,ss,fad,sp,auctp],device=device)"
      ]
    },
    {
      "cell_type": "markdown",
      "metadata": {},
      "source": [
        "> **Note:** If you don’t pass any explainers or evaluators, it defaults to all explainers/evaluators."
      ]
    },
    {
      "cell_type": "markdown",
      "metadata": {},
      "source": [
        "Step 4: Predict Sentiment of a Sentence"
      ]
    },
    {
      "cell_type": "code",
      "execution_count": null,
      "metadata": {},
      "outputs": [
        {
          "data": {
            "text/plain": [
              "{'negative': 0.07390535622835159,\n",
              " 'neutral': 0.10088995099067688,\n",
              " 'positive': 0.8252046704292297}"
            ]
          },
          "execution_count": 7,
          "metadata": {},
          "output_type": "execute_result"
        }
      ],
      "source": [
        "#Define the senece to be explained\n",
        "# sentence= \"Great movie for a great nap!\"\n",
        "# sentence= \"Worst experience I've ever had!\"\n",
        "sentence= \"A masterpiece of how not to make a movie.\"\n",
        "xai_framework.classify_text(sentence)"
      ]
    },
    {
      "cell_type": "markdown",
      "metadata": {},
      "source": [
        "Step 5: Use EvalxNLP to Explain Why"
      ]
    },
    {
      "cell_type": "markdown",
      "metadata": {},
      "source": [
        "You can use the `XAIBenchmark` class to explain for all the explainers defined during the initiation of the `XAIBenchmark` class"
      ]
    },
    {
      "cell_type": "code",
      "execution_count": 8,
      "metadata": {},
      "outputs": [
        {
          "data": {
            "text/plain": [
              "Explanation(\n",
              "  text=['A masterpiece of how not to make a movie.'],\n",
              "  tokens=['<s>', '▁A', '▁master', 'piece', '▁of', '▁how', '▁not', '▁to', '▁make', '▁a', '▁movie', '.', '</s>'],\n",
              "  scores=[0.05983935 0.02848242 0.18051037 0.1956277  0.04314518 0.08561721\n",
              " 0.11212566 0.04384509 0.06295516 0.0221678  0.0799308  0.02522218\n",
              " 0.06053117],\n",
              "  explainer=Saliency,\n",
              "  target=positive,\n",
              ")"
            ]
          },
          "execution_count": 8,
          "metadata": {},
          "output_type": "execute_result"
        }
      ],
      "source": [
        "exps= xai_framework.explain(input_data=sentence,target_label=\"positive\")\n",
        "exps"
      ]
    },
    {
      "cell_type": "markdown",
      "metadata": {},
      "source": [
        "Or you can use an individual explainer's `compute_feature_importance` method to get importance scores."
      ]
    },
    {
      "cell_type": "code",
      "execution_count": null,
      "metadata": {},
      "outputs": [
        {
          "name": "stderr",
          "output_type": "stream",
          "text": [
            "Running Inference: 100%|██████████| 25/25 [00:10<00:00,  2.43it/s]\n"
          ]
        }
      ],
      "source": [
        "ig_exps= ig.compute_feature_importance(sentence, target=\"positive\")\n",
        "gb_exps= gb.compute_feature_importance(sentence, target=\"positive\")\n",
        "dl_exps= dl.compute_feature_importance(sentence, target=\"positive\")\n",
        "ixg_exps= ixg.compute_feature_importance(sentence, target=\"positive\")\n",
        "lime_exps= lime.compute_feature_importance(sentence, target=\"positive\")\n",
        "shap_exps= shap.compute_feature_importance(sentence, target=\"positive\")\n",
        "shapiq_exps= shapiq.compute_feature_importance(sentence, target=\"positive\")\n",
        "g_exps= g.compute_feature_importance(sentence, target=\"positive\")"
      ]
    },
    {
      "cell_type": "markdown",
      "metadata": {},
      "source": [
        "Step 5: Visualize the Explanation"
      ]
    },
    {
      "cell_type": "code",
      "execution_count": 10,
      "metadata": {},
      "outputs": [
        {
          "data": {
            "image/png": "[encoded data removed]",
            "text/plain": [
              "<Figure size 1200x800 with 2 Axes>"
            ]
          },
          "metadata": {},
          "output_type": "display_data"
        }
      ],
      "source": [
        "xai_framework.visualize(exps)"
      ]
    },
    {
      "cell_type": "code",
      "execution_count": 11,
      "metadata": {},
      "outputs": [
        {
          "name": "stdout",
          "output_type": "stream",
          "text": [
            "file saved in ..\\results\\llm_explanations\\explanations.html\n"
          ]
        },
        {
          "data": {
            "text/html": [
              "\n",
              "            <div style='\n",
              "                # background: #f5f5f5;\n",
              "                padding: 12px;\n",
              "                margin: 12px 0;\n",
              "                border-radius: 4px;\n",
              "                border-left: 4px solid #4e79a7;\n",
              "                color:white;\n",
              "            '>\n",
              "                <h4 style='margin-top:0;color:white;'>\n",
              "                    SALIENCY <span style='color:white'></span>\n",
              "                </h4>\n",
              "                <span style='color:white'> Sentence: ['A masterpiece of how not to make a movie.'] </span><br>\n",
              "                <span style='color:white'> Model Label: positive </span>\n",
              "                <pre style='white-space:pre-wrap;margin-bottom:0;'>**1. Calculation of Saliency scores:**\n",
              "Saliency scores are calculated by computing the gradient of the model's output with respect to the input tokens. Specifically, for a given token, the score is calculated as the gradient of the model's output probability for the target class ('positive') with respect to the token's embedding. This is done using backpropagation. The resulting gradient values are then normalized to obtain the Saliency scores.\n",
              "\n",
              "**2. Interpretation of Saliency scores:**\n",
              "The Saliency scores represent the contribution of each token to the model's decision. A higher score indicates that the token has a greater impact on the model's output. In this case, the tokens with the highest scores are 'piece' (0.1956277) and 'master' (0.18051037), suggesting that these tokens are most influential in the model's decision to classify the text as 'positive'. Tokens with lower scores, such as '▁A' (0.02848242), have less impact on the model's decision. The scores can be used to identify the most important tokens that drive the model's prediction.</pre>\n",
              "            </div>\n",
              "            "
            ],
            "text/plain": [
              "<IPython.core.display.HTML object>"
            ]
          },
          "metadata": {},
          "output_type": "display_data"
        },
        {
          "name": "stdout",
          "output_type": "stream",
          "text": [
            "Saved files: ['..\\\\results\\\\llm_explanations\\\\explanations.json', '..\\\\results\\\\llm_explanations\\\\explanations.html']\n"
          ]
        }
      ],
      "source": [
        "from LLMExplanationGenerator import LLMExplanationGenerator\n",
        "import pandas as pd\n",
        "from IPython.display import display, HTML\n",
        "\n",
        "api_key = \"9b305c0291728a7f4ca861254b9bedd3e7785d5360100d93603dd1758931be6d\"\n",
        "explainer = LLMExplanationGenerator(api_key=api_key)\n",
        "\n",
        "# Generate and save explanations (returns both explanations and file paths)\n",
        "explanations, saved_files = explainer.generate_and_save_explanations(\n",
        "    exps=exps,\n",
        "    output_format=\"both\"  # or \"json\"/\"html\"\n",
        ")\n",
        "\n",
        "# Display in notebook\n",
        "explainer.display_explanations(explanations)\n",
        "\n",
        "# Print saved locations\n",
        "print(f\"Saved files: {[str(p) for p in saved_files]}\")\n"
      ]
    },
    {
      "cell_type": "markdown",
      "metadata": {},
      "source": [
        "📌 How to Interpret EvalxNLP's Results?\n",
        "\n",
        "This heatmap shows how different explanation methods (feature attribution techniques) assign importance scores to different words (tokens) in a sentence.\n",
        "\n",
        "Each row represents a different explanation method, and each column represents a token (word or punctuation) from the input sentence.\n",
        "\n",
        "🔴 Red (Positive Score) → Word contributes positively to the prediction.\n",
        "\n",
        "🔵 Blue (Negative Score) → Word contributes negatively to the prediction.\n",
        "\n",
        "⚪ White/Neutral (Close to 0) → Word has little to no effect on the prediction.\n",
        "\n"
      ]
    },
    {
      "cell_type": "markdown",
      "metadata": {},
      "source": [
        "🧐 What Can We Learn from This?\n",
        "\n",
        "✔️ Debugging Sentiment Models – If a model misclassifies a sentence, check which words influenced the decision.\n",
        "\n",
        "✔️ Bias Detection – If neutral words like \"customer\" heavily influence sentiment, the model may have biases.\n",
        "\n",
        "✔️ Choosing the Best Explanation Method – Compare different methods and select the most consistent one.\n",
        "\n",
        "✔️ Improving Model Interpretability – Use this visualization to explain AI decisions to non-technical stakeholders.\n",
        "\n"
      ]
    },
    {
      "cell_type": "markdown",
      "metadata": {},
      "source": [
        "Step 5: Evaluate the explanations"
      ]
    },
    {
      "cell_type": "markdown",
      "metadata": {},
      "source": [
        "You can evaluate explanations from different explainers initialized during the creation of the `XAIBenchmark` class using the `evaluate_single_sentence` function.\n",
        "\n",
        "- If you provide a **human rationale**, **plausibility metrics** will be calculated.  \n",
        "- If no rationale is provided, plausibility metrics **will not** be included.  "
      ]
    },
    {
      "cell_type": "code",
      "execution_count": 12,
      "metadata": {},
      "outputs": [
        {
          "data": {
            "text/plain": [
              "{'Saliency': {'Complexity ↓': 0.1807415634393692,\n",
              "  'Soft Comprehensiveness ↑': 0.6591281890869141,\n",
              "  'Soft Sufficiency ↓': 0.0002086240565404296,\n",
              "  'FAD ↓': 0.0,\n",
              "  'Sparseness ↑': 0.20838111639022827,\n",
              "  'AUTPC ↓': 0.0}}"
            ]
          },
          "execution_count": 12,
          "metadata": {},
          "output_type": "execute_result"
        }
      ],
      "source": [
        "a=xai_framework.evaluate_single_sentence(sentence, target_label=\"positive\")\n",
        "a"
      ]
    },
    {
      "cell_type": "code",
      "execution_count": 13,
      "metadata": {},
      "outputs": [
        {
          "data": {
            "text/html": [
              "\n",
              "        <iframe srcdoc='\n",
              "        <!DOCTYPE html>\n",
              "        <html>\n",
              "        <head>\n",
              "            <title>Metrics Report</title>\n",
              "            <style>\n",
              "                body {\n",
              "                    font-family: -apple-system, BlinkMacSystemFont, \"Segoe UI\", Roboto, sans-serif;\n",
              "                    line-height: 1.6;\n",
              "                    padding: 20px;\n",
              "                    background-color: transparent;\n",
              "                    color: #333333;\n",
              "                }\n",
              "                h1 {\n",
              "                    color: #3f51b5;\n",
              "                    border-bottom: 2px solid #009688;\n",
              "                    padding-bottom: 10px;\n",
              "                    margin-top: 0;\n",
              "                }\n",
              "                h2 {\n",
              "                    color: #3f51b5;\n",
              "                    margin-bottom: 8px;\n",
              "                }\n",
              "                h3 {\n",
              "                    color: #009688;\n",
              "                    margin: 12px 0 6px 0;\n",
              "                }\n",
              "                .section {\n",
              "                    margin-bottom: 30px;\n",
              "                }\n",
              "                .metric {\n",
              "                    background: rgba(245, 245, 245, 0.9);\n",
              "                    padding: 16px;\n",
              "                    margin: 12px 0;\n",
              "                    border-radius: 8px;\n",
              "                    border-left: 4px solid #3f51b5;\n",
              "                    backdrop-filter: blur(2px);\n",
              "                }\n",
              "                .explainer {\n",
              "                    background: rgba(255, 255, 255, 0.7);\n",
              "                    padding: 12px;\n",
              "                    margin: 10px 0;\n",
              "                    border-radius: 6px;\n",
              "                    border-left: 3px solid #009688;\n",
              "                }\n",
              "                .score {\n",
              "                    font-weight: 600;\n",
              "                    color: #ff5722;\n",
              "                }\n",
              "                .interpretation {\n",
              "                    white-space: pre-wrap;\n",
              "                    background: rgba(255, 255, 255, 0.5);\n",
              "                    padding: 8px 12px;\n",
              "                    border-radius: 4px;\n",
              "                    margin-top: 8px;\n",
              "                }\n",
              "                .meta {\n",
              "                    color: #009688;\n",
              "                    font-size: 0.9em;\n",
              "                    margin-bottom: 12px;\n",
              "                }\n",
              "                .error {\n",
              "                    color: #d32f2f;\n",
              "                    padding: 10px;\n",
              "                    border-radius: 4px;\n",
              "                    background: rgba(211, 47, 47, 0.1);\n",
              "                }\n",
              "            </style>\n",
              "        </head>\n",
              "        <body>\n",
              "            <h1>Evaluation Metrics Report</h1>\n",
              "        \n",
              "            <div class=\"metric\">\n",
              "                <div class=\"metric-name\">AUTPC ↓</div>\n",
              "                <div class=\"metric-meta\">\n",
              "                    <strong>Definition:</strong> Evaluates explanation faithfulness by measuring performance drop when progressively masking top-salient tokens.<br>\n",
              "                    <strong>Direction:</strong> lower is better | \n",
              "                    <strong>Range:</strong> 0-1 (0 = most faithful, performance drops immediately when critical tokens are masked)\n",
              "                </div>\n",
              "            \n",
              "                <div class=\"explainer\">\n",
              "                    <div class=\"explainer-name\">Saliency</div>\n",
              "                    <div><strong>Score:</strong> 0.000</div>\n",
              "                    <div class=\"interpretation\"><strong>Analysis:</strong> The Saliency method&apos;s score of 0.000 on the AUTPC ↓ metric indicates that the performance of the model drops immediately when the most critical tokens are masked, suggesting that the explanation method is highly faithful to the model&apos;s decision-making process. This score is indicative of good performance, as a lower score is better and 0 represents the most faithful explanation. In comparison to the ideal value of 0, the Saliency method&apos;s score is optimal, implying that it perfectly identifies the critical tokens that are essential to the model&apos;s performance.</div>\n",
              "                </div>\n",
              "                </div>\n",
              "            <div class=\"metric\">\n",
              "                <div class=\"metric-name\">Complexity ↓</div>\n",
              "                <div class=\"metric-meta\">\n",
              "                    <strong>Definition:</strong> Measures explanation conciseness by computing the entropy of normalized attribution scores. Lower values indicate simpler explanations focusing on few key features, while higher values suggest distributed feature importance<br>\n",
              "                    <strong>Direction:</strong> lower is better | \n",
              "                    <strong>Range:</strong> 0-1\n",
              "                </div>\n",
              "            \n",
              "                <div class=\"explainer\">\n",
              "                    <div class=\"explainer-name\">Saliency</div>\n",
              "                    <div><strong>Score:</strong> 0.181</div>\n",
              "                    <div class=\"interpretation\"><strong>Analysis:</strong> The Saliency method&apos;s score of 0.181 on the Complexity ↓ metric indicates that it provides relatively simple explanations, focusing on a few key features rather than distributing importance across many features. This suggests good performance, as lower values are preferred, indicating concise and targeted explanations. Compared to the ideal value of 0, the Saliency method&apos;s score is relatively close, suggesting that it is effective in providing simple and focused explanations, although there is still some room for improvement towards achieving the most concise explanations possible.</div>\n",
              "                </div>\n",
              "                </div>\n",
              "            <div class=\"metric\">\n",
              "                <div class=\"metric-name\">FAD ↓</div>\n",
              "                <div class=\"metric-meta\">\n",
              "                    <strong>Definition:</strong> Measures performance impact when dropping top-salient tokens, with curve steepness indicating faithfulness.<br>\n",
              "                    <strong>Direction:</strong> lower is better | \n",
              "                    <strong>Range:</strong> 0-1 (0 = perfect alignment with model&apos;s true feature importance)\n",
              "                </div>\n",
              "            \n",
              "                <div class=\"explainer\">\n",
              "                    <div class=\"explainer-name\">Saliency</div>\n",
              "                    <div><strong>Score:</strong> 0.000</div>\n",
              "                    <div class=\"interpretation\"><strong>Analysis:</strong> A score of 0.000 for the Saliency method using the FAD ↓ metric indicates that the method perfectly aligns with the model&apos;s true feature importance, as the score is at the lower bound of the range (0-1). This suggests good performance, as a lower score is better and indicates faithfulness to the model&apos;s decision-making process. In comparison to ideal values, a score of 0.000 is ideal, as it represents perfect alignment, meaning the Saliency method is effectively identifying the most important features driving the model&apos;s predictions.</div>\n",
              "                </div>\n",
              "                </div>\n",
              "            <div class=\"metric\">\n",
              "                <div class=\"metric-name\">Soft Comprehensiveness ↑</div>\n",
              "                <div class=\"metric-meta\">\n",
              "                    <strong>Definition:</strong> Measures how much the model&apos;s prediction relies on important tokens by probabilistically perturbing them based on importance scores.<br>\n",
              "                    <strong>Direction:</strong> higher is better | \n",
              "                    <strong>Range:</strong> 0-1 (1 = model completely relies on the important tokens)\n",
              "                </div>\n",
              "            \n",
              "                <div class=\"explainer\">\n",
              "                    <div class=\"explainer-name\">Saliency</div>\n",
              "                    <div><strong>Score:</strong> 0.659</div>\n",
              "                    <div class=\"interpretation\"><strong>Analysis:</strong> The Saliency method&apos;s score of 0.659 on the Soft Comprehensiveness ↑ metric indicates that the model&apos;s predictions rely on important tokens to a moderate extent, but not completely. This score suggests good, but not exceptional, performance, as it falls somewhat short of the ideal value of 1, which would indicate that the model&apos;s predictions are entirely based on the important tokens. In comparison to the ideal value, the Saliency method&apos;s score is about 65% of the way to the optimal value, leaving room for improvement in terms of relying on important tokens.</div>\n",
              "                </div>\n",
              "                </div>\n",
              "            <div class=\"metric\">\n",
              "                <div class=\"metric-name\">Soft Sufficiency ↓</div>\n",
              "                <div class=\"metric-meta\">\n",
              "                    <strong>Definition:</strong> Measures how well important tokens preserve the model&apos;s prediction when other tokens are perturbed.<br>\n",
              "                    <strong>Direction:</strong> lower is better | \n",
              "                    <strong>Range:</strong> 0-1 (1 = important tokens perfectly maintain the prediction)\n",
              "                </div>\n",
              "            \n",
              "                <div class=\"explainer\">\n",
              "                    <div class=\"explainer-name\">Saliency</div>\n",
              "                    <div><strong>Score:</strong> 0.000</div>\n",
              "                    <div class=\"interpretation\"><strong>Analysis:</strong> A score of 0.000 on the Soft Sufficiency ↓ metric for the Saliency method means that the important tokens identified by this method perfectly preserve the model&apos;s prediction when other tokens are perturbed, indicating that these tokens are crucial for the model&apos;s decision-making process. This suggests good performance, as a lower score is better and 0.000 is the lowest possible score, indicating that the important tokens maintain the prediction flawlessly. In comparison to ideal values, a score of 0.000 is optimal, as it is the lowest possible value on the 0-1 range, where 1 would indicate that the important tokens have no effect on maintaining the prediction.</div>\n",
              "                </div>\n",
              "                </div>\n",
              "            <div class=\"metric\">\n",
              "                <div class=\"metric-name\">Sparseness ↑</div>\n",
              "                <div class=\"metric-meta\">\n",
              "                    <strong>Definition:</strong> Quantifies explanation concentration using the Gini index. Measures whether only highly-attributed features are truly predictive.<br>\n",
              "                    <strong>Direction:</strong> higher is better | \n",
              "                    <strong>Range:</strong> 0-1 (1 = perfectly sparse, 0 = uniform importance across all features)\n",
              "                </div>\n",
              "            \n",
              "                <div class=\"explainer\">\n",
              "                    <div class=\"explainer-name\">Saliency</div>\n",
              "                    <div><strong>Score:</strong> 0.208</div>\n",
              "                    <div class=\"interpretation\"><strong>Analysis:</strong> The score of 0.208 for the Saliency method indicates that the explanation concentration is relatively low, meaning the importance is not highly concentrated on a few features, but rather spread out across many features. This suggests that the method is not performing well in terms of sparseness, as a higher score would indicate that only a few highly-attributed features are truly predictive. Compared to the ideal value of 1, which represents perfectly sparse explanations, the Saliency method&apos;s score is significantly lower, indicating room for improvement in concentrating importance on the most predictive features.</div>\n",
              "                </div>\n",
              "                </div></body></html>'\n",
              "                style=\"width:100%; height:600px; border:none;\"\n",
              "                sandbox=\"allow-scripts\">\n",
              "        </iframe>\n",
              "        "
            ],
            "text/plain": [
              "<IPython.core.display.HTML object>"
            ]
          },
          "metadata": {},
          "output_type": "display_data"
        }
      ],
      "source": [
        "from EvaluationMetricsExplainer import EvaluationMetricsExplainer\n",
        "\n",
        "api_key = \"9b305c0291728a7f4ca861254b9bedd3e7785d5360100d93603dd1758931be6d\"\n",
        "explainer = EvaluationMetricsExplainer(api_key=api_key)\n",
        "\n",
        "results = explainer.explain_results(a)\n",
        "json_path, html_path = explainer.save_results(results)\n",
        "\n",
        "# Display in notebook\n",
        "explainer.display_results(results)"
      ]
    },
    {
      "cell_type": "markdown",
      "metadata": {},
      "source": [
        "Alternatively, you can use each evaluator’s `compute` function to assess individual metrics.  \n",
        "For **plausibility metrics**, make sure to **add a rationale** to the explanation object before evaluation."
      ]
    },
    {
      "cell_type": "code",
      "execution_count": 14,
      "metadata": {},
      "outputs": [
        {
          "data": {
            "text/plain": [
              "np.float64(0.26279761904761906)"
            ]
          },
          "execution_count": 14,
          "metadata": {},
          "output_type": "execute_result"
        }
      ],
      "source": [
        "ig_exps.rationale= [0, 1, 0, 1, 0,0,0,0,1,0,1,0]\n",
        "iou_f1.compute(ig_exps)\n",
        "auprc.compute(ig_exps)"
      ]
    },
    {
      "cell_type": "markdown",
      "metadata": {},
      "source": [
        "#### Dataset"
      ]
    },
    {
      "cell_type": "markdown",
      "metadata": {},
      "source": [
        "Step 1: Load the model and tokenizer"
      ]
    },
    {
      "cell_type": "code",
      "execution_count": 15,
      "metadata": {},
      "outputs": [],
      "source": [
        "from transformers import AutoModelForSequenceClassification, AutoTokenizer\n",
        "\n",
        "model_name = \"cardiffnlp/twitter-xlm-roberta-base-sentiment\"\n",
        "tokenizer = AutoTokenizer.from_pretrained(model_name)\n",
        "model = AutoModelForSequenceClassification.from_pretrained(model_name)"
      ]
    },
    {
      "cell_type": "markdown",
      "metadata": {},
      "source": [
        "Step 2: Load the dataset"
      ]
    },
    {
      "cell_type": "markdown",
      "metadata": {},
      "source": [
        "You can load any text classification dataset using the `load_fields_from_dataset` function, provided you specify the `LoadDatasetArgs` as follows:  \n",
        "- **`dataset_name`** - The field containing dataset name on huggingface/ \"csv\", \"json\", etc for local files\n",
        "- **`input_text_field`** – The field containing the text data.  \n",
        "- **`label_field`** – The field containing the class labels.  \n",
        "- **`rationale_field`** (optional) – The field marking important tokens in the text.\n",
        "- **`dataset_files`** (optional) - The field containing filepath to a local csv/excel file e.g. [\"healthFC_annotated.csv\"]"
      ]
    },
    {
      "cell_type": "markdown",
      "metadata": {},
      "source": [
        "HuggingFace Dataset"
      ]
    },
    {
      "cell_type": "code",
      "execution_count": 20,
      "metadata": {},
      "outputs": [
        {
          "name": "stdout",
          "output_type": "stream",
          "text": [
            "Loading dataset...\n"
          ]
        }
      ],
      "source": [
        "from dataset_loaders.dataset_loader import LoadDatasetArgs,load_fields_from_dataset\n",
        "\n",
        "dataset_args_ = LoadDatasetArgs(\n",
        "    dataset_name=\"eraser-benchmark/movie_rationales\",\n",
        "    text_field=\"review\",\n",
        "    label_field=\"label\",\n",
        "    rationale_field=\"evidences\",\n",
        "    dataset_split=\"test\",\n",
        ")\n",
        "\n",
        "# Load the dataset fields\n",
        "results = load_fields_from_dataset(dataset_args_)"
      ]
    },
    {
      "cell_type": "code",
      "execution_count": 21,
      "metadata": {},
      "outputs": [
        {
          "data": {
            "text/plain": [
              "(\"there may not be a critic alive who harbors as much affection for shlock monster movies as i do .\\ni delighted in the sneaky - smart entertainment of ron underwood 's big - underground - worm yarn tremors ; i even giggled at last year 's critically - savaged big - underwater - snake yarn anaconda .\\nsomething about these films causes me to lower my inhibitions and return to the saturday afternoons of my youth , spent in the company of ghidrah , the creature from the black lagoon and the blob .\\ndeep rising , a big - undersea - serpent yarn , does n't quite pass the test .\\nsure enough , all the modern monster movie ingredients are in place : a conspicuously multi - ethnic / multi - national collection of bait .\\n.. excuse me , characters ; an isolated location , here a derelict cruise ship in the south china sea ; some comic relief ; a few cgi - enhanced gross - outs ; and at least one big explosion .\\nthere are too - cheesy - to - be - accidental elements , like a sleazy shipping magnate ( anthony heald ) who also appears to have a doctorate in marine biology , or a slinky international jewel thief ( famke janssen ) whose white cotton tank top hides a heart of gold .\\nas it happens , deep rising is noteworthy primarily for the mechanical manner in which it spits out all those ingredients .\\na terrorist crew , led by squinty - eyed mercenary hanover ( wes studi ) and piloted by squinty - eyed boat captain finnegan ( treat williams ) , shows up to loot the cruise ship ; the sea monsters show up to eat the mercenary crew ; a few survivors make it to the closing credits .\\nand up go the lights .\\nit 's hard to work up much enthusiasm for this sort of joyless film - making , especially when a monster moview should make you laugh every time it makes you scream .\\nhere , the laughs are provided almost entirely by kevin\\nj. o'connor , generally amusing as the crew 's fraidy - cat mechanic .\\nwriter / director stephen sommers seems most concerned with creating a tone of action - horror menace -- something over - populated with gore - drenched skeletons , something where the gunfire and special effects are taken a bit too seriously .\\ndeep rising is missing that one unmistakable cue that we 're expected to have a ridiculous good time , not hide our eyes .\\ncase it point , comparing deep rising to its recent cousin anaconda .\\nin deep rising , one of the creature 's victims is regurgitated back into view , partially digested and still alive .\\nhe shrieks in horror at his freakish appearance and pain , in a moment a bit too disturbing to be laughable .\\nin anaconda , we also see a regurgitated victim , partially digested and still alive .\\nhe looks at another character .\\n.. and winks .\\nmake no mistake , deep rising has anaconda beat all to heck when it comes to technical proficiency and pacing .\\nit 's also gloomy , uninspired and not nearly enough fun .\\ni do n't ask much of my monster movies , but i do ask that they act like monster movies .\\nyou do n't have to show me a fantastically impressive , massive beast with tentacles a - flailing .\\njust show me the massive beast burping , and i 'll figure you get the point .\",\n",
              " 0,\n",
              " array(['i even giggled',\n",
              "        'something about these films causes me to lower my inhibitions and return to the saturday afternoons of my',\n",
              "        \"does n't quite pass the test . sure enough\",\n",
              "        'too - cheesy - to - be - accidental',\n",
              "        'noteworthy primarily for the mechanical manner in which',\n",
              "        \"it 's hard to work up much enthusiasm for this sort of joyless film - making , especially when a monster moview should make you laugh every time it makes you scream\",\n",
              "        \"deep rising is missing that one unmistakable cue that we 're expected to have a ridiculous good time , not hide our eyes\",\n",
              "        \"deep rising has anaconda beat all to heck when it comes to technical proficiency and pacing . it 's also gloomy , uninspired and not nearly enough\",\n",
              "        \"i do n't ask much of my monster movies , but i do ask that they act like monster movies . you do n't have to show me a fantastically impressive , massive beast with tentacles a - flailing . just show me the massive beast burping , and i 'll figure you get the\"],\n",
              "       dtype=object))"
            ]
          },
          "execution_count": 21,
          "metadata": {},
          "output_type": "execute_result"
        }
      ],
      "source": [
        "input_texts= results['text']\n",
        "labels= results['labels']\n",
        "rationales= results['rationales']\n",
        "input_texts[0], labels[0], rationales[0]"
      ]
    },
    {
      "cell_type": "markdown",
      "metadata": {},
      "source": [
        "Local CSV File Dataset"
      ]
    },
    {
      "cell_type": "code",
      "execution_count": 19,
      "metadata": {},
      "outputs": [
        {
          "name": "stdout",
          "output_type": "stream",
          "text": [
            "Loading dataset...\n"
          ]
        }
      ],
      "source": [
        "# dataset_args_csv = LoadDatasetArgs(\n",
        "#     dataset_name=\"csv\",\n",
        "#     text_field=\"en_text\",\n",
        "#     label_field=\"label\",\n",
        "#     rationale_field=\"en_explanation\",\n",
        "#     dataset_split=\"train\",\n",
        "#     dataset_files=[\"healthFC_annotated.csv\"]\n",
        "# )\n",
        "\n",
        "# # Load the dataset fields\n",
        "# results = load_fields_from_dataset(dataset_args_)"
      ]
    },
    {
      "cell_type": "markdown",
      "metadata": {},
      "source": [
        "Expected Outputs:\n",
        "\n",
        "- **`input_texts`** → An array of strings (text samples).  \n",
        "- **`labels`** → An array of strings (corresponding class labels).  \n",
        "- **`rationale`** → An array of binary values (`0` or `1`), indicating which tokens in the text are important.  \n",
        "\n",
        "*You can preprocess or postprocess the data to ensure it is in the expected format if needed.*"
      ]
    },
    {
      "cell_type": "code",
      "execution_count": 22,
      "metadata": {},
      "outputs": [],
      "source": [
        "from dataset_loaders.movie_rationales import MovieRationalesProcessor\n",
        "\n",
        "mv= MovieRationalesProcessor(tokenizer)\n",
        "processed_rationales= mv.process_dataset(input_texts, labels, rationales)"
      ]
    },
    {
      "cell_type": "markdown",
      "metadata": {},
      "source": [
        "Select a sub-sample of the dataset"
      ]
    },
    {
      "cell_type": "code",
      "execution_count": 23,
      "metadata": {},
      "outputs": [],
      "source": [
        "#Select a sub-sample if you want\n",
        "input_texts_sample=results['text'][:2]\n",
        "labels_sample=results['labels'][:2]\n",
        "rationale_sample= processed_rationales[:2]"
      ]
    },
    {
      "cell_type": "markdown",
      "metadata": {},
      "source": [
        "Step 3: Generate Explanations"
      ]
    },
    {
      "cell_type": "code",
      "execution_count": 30,
      "metadata": {},
      "outputs": [
        {
          "name": "stdout",
          "output_type": "stream",
          "text": [
            "Processing instance 0\n",
            "Found cached explanation for Saliency\n",
            "Processing instance 1\n",
            "Found cached explanation for Saliency\n",
            "Saved explanations to ../results/scores/movie_04_02.json\n"
          ]
        }
      ],
      "source": [
        "exp_scores= xai_framework.get_feature_importance_for_dataset(input_texts_sample,labels_sample,rationale_sample,output_file=\"../results/scores/movie_04_02.json\")"
      ]
    },
    {
      "cell_type": "code",
      "execution_count": 25,
      "metadata": {},
      "outputs": [
        {
          "name": "stdout",
          "output_type": "stream",
          "text": [
            "file saved in ..\\results\\llm_explanations\\explanations.html\n"
          ]
        },
        {
          "data": {
            "text/html": [
              "\n",
              "            <div style='\n",
              "                # background: #f5f5f5;\n",
              "                padding: 12px;\n",
              "                margin: 12px 0;\n",
              "                border-radius: 4px;\n",
              "                border-left: 4px solid #4e79a7;\n",
              "                color:white;\n",
              "            '>\n",
              "                <h4 style='margin-top:0;color:white;'>\n",
              "                    SALIENCY <span style='color:white'></span>\n",
              "                </h4>\n",
              "                <span style='color:white'> Sentence: [\"there may not be a critic alive who harbors as much affection for shlock monster movies as i do .\\ni delighted in the sneaky - smart entertainment of ron underwood 's big - underground - worm yarn tremors ; i even giggled at last year 's critically - savaged big - underwater - snake yarn anaconda .\\nsomething about these films causes me to lower my inhibitions and return to the saturday afternoons of my youth , spent in the company of ghidrah , the creature from the black lagoon and the blob .\\ndeep rising , a big - undersea - serpent yarn , does n't quite pass the test .\\nsure enough , all the modern monster movie ingredients are in place : a conspicuously multi - ethnic / multi - national collection of bait .\\n.. excuse me , characters ; an isolated location , here a derelict cruise ship in the south china sea ; some comic relief ; a few cgi - enhanced gross - outs ; and at least one big explosion .\\nthere are too - cheesy - to - be - accidental elements , like a sleazy shipping magnate ( anthony heald ) who also appears to have a doctorate in marine biology , or a slinky international jewel thief ( famke janssen ) whose white cotton tank top hides a heart of gold .\\nas it happens , deep rising is noteworthy primarily for the mechanical manner in which it spits out all those ingredients .\\na terrorist crew , led by squinty - eyed mercenary hanover ( wes studi ) and piloted by squinty - eyed boat captain finnegan ( treat williams ) , shows up to loot the cruise ship ; the sea monsters show up to eat the mercenary crew ; a few survivors make it to the closing credits .\\nand up go the lights .\\nit 's hard to work up much enthusiasm for this sort of joyless film - making , especially when a monster moview should make you laugh every time it makes you scream .\\nhere , the laughs are provided almost entirely by kevin\\nj. o'connor , generally amusing as the crew 's fraidy - cat mechanic .\\nwriter / director stephen sommers seems most concerned with creating a tone of action - horror menace -- something over - populated with gore - drenched skeletons , something where the gunfire and special effects are taken a bit too seriously .\\ndeep rising is missing that one unmistakable cue that we 're expected to have a ridiculous good time , not hide our eyes .\\ncase it point , comparing deep rising to its recent cousin anaconda .\\nin deep rising , one of the creature 's victims is regurgitated back into view , partially digested and still alive .\\nhe shrieks in horror at his freakish appearance and pain , in a moment a bit too disturbing to be laughable .\\nin anaconda , we also see a regurgitated victim , partially digested and still alive .\\nhe looks at another character .\\n.. and winks .\\nmake no mistake , deep rising has anaconda beat all to heck when it comes to technical proficiency and pacing .\\nit 's also gloomy , uninspired and not nearly enough fun .\\ni do n't ask much of my monster movies , but i do ask that they act like monster movies .\\nyou do n't have to show me a fantastically impressive , massive beast with tentacles a - flailing .\\njust show me the massive beast burping , and i 'll figure you get the point .\"] </span><br>\n",
              "                <span style='color:white'> Model Label: negative </span>\n",
              "                <pre style='white-space:pre-wrap;margin-bottom:0;'>**1. Calculation of Saliency Scores:**\n",
              "Saliency scores are calculated using the Saliency method, which is a technique used to explain the decisions made by a neural network. The scores are computed by taking the derivative of the model's output with respect to the input features (in this case, the tokens). The derivative represents the change in the output with respect to a small change in the input feature. The scores are then normalized to obtain a measure of the importance of each token.\n",
              "\n",
              "**2. :**\n",
              "To interpret the Saliency scores with respect to the model's decision, we can follow these steps:\n",
              "* **Identify the target class**: The target class is 'negative', which means we are interested in understanding why the model classified the text as 'negative'.\n",
              "* **Look for tokens with high scores**: Tokens with high Saliency scores are more important for the model's decision. In this case, we can see that tokens like '▁not', '▁be', '▁a', '▁critic', '▁ali', '▁ve', '▁who', '▁har', '▁bor', '▁s' have relatively high scores.\n",
              "* **Analyze the context**: By analyzing the context in which these tokens appear, we can gain insights into why the model classified the text as 'negative'. For example, the presence of words like 'not', 'critic', and 'negative' phrases may indicate that the text is expressing a negative opinion.\n",
              "* **Consider the model's bias**: It's also important to consider the model's bias and whether the Saliency scores are reflecting the model's biases rather than the actual importance of the tokens.\n",
              "\n",
              "By following these steps, we can use the Saliency scores to gain a deeper understanding of why the model classified the text as 'negative' and identify the most important tokens that contributed to this decision.</pre>\n",
              "            </div>\n",
              "            "
            ],
            "text/plain": [
              "<IPython.core.display.HTML object>"
            ]
          },
          "metadata": {},
          "output_type": "display_data"
        },
        {
          "data": {
            "text/html": [
              "\n",
              "            <div style='\n",
              "                # background: #f5f5f5;\n",
              "                padding: 12px;\n",
              "                margin: 12px 0;\n",
              "                border-radius: 4px;\n",
              "                border-left: 4px solid #4e79a7;\n",
              "                color:white;\n",
              "            '>\n",
              "                <h4 style='margin-top:0;color:white;'>\n",
              "                    SALIENCY <span style='color:white'></span>\n",
              "                </h4>\n",
              "                <span style='color:white'> Sentence: ['renee zellweger stars as sonia , a young jewish wife and mother frustrated by the constraints of her hasidic community in brooklyn .\\nher husband ( glenn fitzgerald ) is a religious scholar whose all - in - a - day\\'s - work attitude on sex fails to tame the \" fire \" she feels within , as so she confesses to the rebbe ( after hearing her fiery confession , the rebbe suddenly gets frisky with his pleasantly surprised wife -- and dies the next morning ) .\\nsensing her frustration , her husband \\'s brother ( christopher eccleston ) gives her a job in his jewelry brokering business in exchange for raw , passionless sex that just fans sonia \\'s still - burning flame .\\non the job , sonia befriends ramon ( allen payne ) , a cool blast of hunky puerto rican water who does his own jewelry designs when not working as a grunt in an upscale jewelry store .\\ncan fire - taming be far be that far behind for the ever - smoldering sonia ?\\njust about everything in writer - director boaz yakin \\'s rings false , starting with the improbably cast zellweger , who does an adequate enough acting job but simply looks too waspy for the role .\\na better fit would have been julianna margulies , who outshines zellweger as sonia \\'s take - no - crap sister - in - law .\\nsome of sonia \\'s baby steps toward liberation , such as indulging in a non - kosher egg roll in chinatown , come off as silly .\\nyakin attempts to spice up the proceedings with a touch of magical realism -- in the form of the recurring presence of sonia \\'s long - dead brother \\'s ghost -- make the story feel even more trite than it already is .\\n\"\\ni did n\\'t know what to expect .\\nit \\'s like something you chase for so long , but then you do n\\'t know how to react when you get it .\\ni still do n\\'t know how to react .\\n\"\\n--michael\\njordan , on winning his first nba championship in 1991 .\\n..\\nor , my thoughts after meeting him on november 21 , 1997'] </span><br>\n",
              "                <span style='color:white'> Model Label: negative </span>\n",
              "                <pre style='white-space:pre-wrap;margin-bottom:0;'>**1. How are Saliency scores calculated:**\n",
              "\n",
              "Saliency scores are calculated by computing the gradient of the model's output with respect to the input tokens. Specifically, for a given input token, the saliency score is calculated as the absolute value of the gradient of the model's output (i.e., the predicted probability of the target class) with respect to the token's embedding. This gradient represents the change in the model's output when the token's embedding is perturbed. The saliency scores are then normalized to ensure they are comparable across different tokens.\n",
              "\n",
              "**2. How to interpret Saliency scores with respect to the model's decision:**\n",
              "\n",
              "To interpret the Saliency scores, you can follow these steps:\n",
              "\n",
              "* **Identify important tokens:** Tokens with high saliency scores are more important for the model's decision. In this case, the target class is 'negative', so tokens with high scores are likely to contribute to the model's prediction of a negative outcome.\n",
              "* **Understand the direction of influence:** Since Saliency scores are based on gradients, they can be positive or negative. However, in this case, we are only interested in the absolute values of the scores, which represent the magnitude of the influence.\n",
              "* **Analyze the context:** Consider the tokens with high saliency scores in the context of the entire input sequence. Look for patterns, such as phrases or sentences, that may be contributing to the model's decision.\n",
              "* **Compare scores:** Compare the saliency scores of different tokens to understand their relative importance. Tokens with higher scores are more influential in the model's decision.\n",
              "\n",
              "By analyzing the Saliency scores, you can gain insights into which tokens are driving the model's prediction of a negative outcome and how they are contributing to the overall decision.</pre>\n",
              "            </div>\n",
              "            "
            ],
            "text/plain": [
              "<IPython.core.display.HTML object>"
            ]
          },
          "metadata": {},
          "output_type": "display_data"
        },
        {
          "name": "stdout",
          "output_type": "stream",
          "text": [
            "Saved files: ['..\\\\results\\\\llm_explanations\\\\explanations.json', '..\\\\results\\\\llm_explanations\\\\explanations.html']\n"
          ]
        }
      ],
      "source": [
        "from LLMExplanationGenerator import LLMExplanationGenerator\n",
        "import pandas as pd\n",
        "from IPython.display import display, HTML\n",
        "\n",
        "api_key = \"9b305c0291728a7f4ca861254b9bedd3e7785d5360100d93603dd1758931be6d\"\n",
        "explainer = LLMExplanationGenerator(api_key=api_key)\n",
        "\n",
        "# Generate and save explanations (returns both explanations and file paths)\n",
        "explanations, saved_files = explainer.generate_and_save_explanations(\n",
        "    exps=exp_scores,\n",
        "    output_format=\"both\"  # or \"json\"/\"html\"\n",
        ")\n",
        "\n",
        "# Display in notebook\n",
        "explainer.display_explanations(explanations)\n",
        "\n",
        "# Print saved locations\n",
        "print(f\"Saved files: {[str(p) for p in saved_files]}\")\n"
      ]
    },
    {
      "cell_type": "markdown",
      "metadata": {},
      "source": [
        "Step 4: Evaluate Explanations and generate table "
      ]
    },
    {
      "cell_type": "code",
      "execution_count": 26,
      "metadata": {},
      "outputs": [
        {
          "name": "stdout",
          "output_type": "stream",
          "text": [
            "\n",
            "Explainer: Saliency\n",
            "Computing value for Complexity ↓\n",
            "Computing value for Soft Comprehensiveness ↑\n",
            "Computing value for Soft Sufficiency ↓\n",
            "Computing value for FAD ↓\n",
            "Computing value for Sparseness ↑\n",
            "Computing value for AUTPC ↓\n"
          ]
        },
        {
          "data": {
            "text/html": [
              "<style type=\"text/css\">\n",
              "#T_ba7f3_row0_col0, #T_ba7f3_row0_col1, #T_ba7f3_row0_col2, #T_ba7f3_row0_col3 {\n",
              "  background-color: rgb(247, 100, 100);\n",
              "  color: black;\n",
              "  font-weight: bold;\n",
              "}\n",
              "#T_ba7f3_row0_col4, #T_ba7f3_row0_col5 {\n",
              "  background-color: rgb(197, 100, 197);\n",
              "  color: black;\n",
              "  font-weight: bold;\n",
              "}\n",
              "</style>\n",
              "<table id=\"T_ba7f3\">\n",
              "  <thead>\n",
              "    <tr>\n",
              "      <th class=\"index_name level0\" >Evaluator</th>\n",
              "      <th id=\"T_ba7f3_level0_col0\" class=\"col_heading level0 col0\" >Soft Comprehensiveness ↑</th>\n",
              "      <th id=\"T_ba7f3_level0_col1\" class=\"col_heading level0 col1\" >Soft Sufficiency ↓</th>\n",
              "      <th id=\"T_ba7f3_level0_col2\" class=\"col_heading level0 col2\" >AUTPC ↓</th>\n",
              "      <th id=\"T_ba7f3_level0_col3\" class=\"col_heading level0 col3\" >FAD ↓</th>\n",
              "      <th id=\"T_ba7f3_level0_col4\" class=\"col_heading level0 col4\" >Complexity ↓</th>\n",
              "      <th id=\"T_ba7f3_level0_col5\" class=\"col_heading level0 col5\" >Sparseness ↑</th>\n",
              "    </tr>\n",
              "    <tr>\n",
              "      <th class=\"index_name level0\" >Explainer</th>\n",
              "      <th class=\"blank col0\" >&nbsp;</th>\n",
              "      <th class=\"blank col1\" >&nbsp;</th>\n",
              "      <th class=\"blank col2\" >&nbsp;</th>\n",
              "      <th class=\"blank col3\" >&nbsp;</th>\n",
              "      <th class=\"blank col4\" >&nbsp;</th>\n",
              "      <th class=\"blank col5\" >&nbsp;</th>\n",
              "    </tr>\n",
              "  </thead>\n",
              "  <tbody>\n",
              "    <tr>\n",
              "      <th id=\"T_ba7f3_level0_row0\" class=\"row_heading level0 row0\" >Saliency</th>\n",
              "      <td id=\"T_ba7f3_row0_col0\" class=\"data row0 col0\" >0.255827</td>\n",
              "      <td id=\"T_ba7f3_row0_col1\" class=\"data row0 col1\" >0.001541</td>\n",
              "      <td id=\"T_ba7f3_row0_col2\" class=\"data row0 col2\" >0.250000</td>\n",
              "      <td id=\"T_ba7f3_row0_col3\" class=\"data row0 col3\" >1.000000</td>\n",
              "      <td id=\"T_ba7f3_row0_col4\" class=\"data row0 col4\" >0.011881</td>\n",
              "      <td id=\"T_ba7f3_row0_col5\" class=\"data row0 col5\" >0.289792</td>\n",
              "    </tr>\n",
              "  </tbody>\n",
              "</table>\n"
            ],
            "text/plain": [
              "<pandas.io.formats.style.Styler at 0x14a3433ed50>"
            ]
          },
          "execution_count": 26,
          "metadata": {},
          "output_type": "execute_result"
        }
      ],
      "source": [
        "metrics= xai_framework.compute_evaluation_metrics(exp_scores)\n",
        "xai_framework.create_pivot_table(metrics)"
      ]
    },
    {
      "cell_type": "code",
      "execution_count": 33,
      "metadata": {},
      "outputs": [
        {
          "data": {
            "text/html": [
              "\n",
              "        <iframe srcdoc='\n",
              "        <!DOCTYPE html>\n",
              "        <html>\n",
              "        <head>\n",
              "            <title>Metrics Report</title>\n",
              "            <style>\n",
              "                body {\n",
              "                    font-family: -apple-system, BlinkMacSystemFont, \"Segoe UI\", Roboto, sans-serif;\n",
              "                    line-height: 1.6;\n",
              "                    padding: 20px;\n",
              "                    background-color: transparent;\n",
              "                    color: #333333;\n",
              "                }\n",
              "                h1 {\n",
              "                    color: #3f51b5;\n",
              "                    border-bottom: 2px solid #009688;\n",
              "                    padding-bottom: 10px;\n",
              "                    margin-top: 0;\n",
              "                }\n",
              "                h2 {\n",
              "                    color: #3f51b5;\n",
              "                    margin-bottom: 8px;\n",
              "                }\n",
              "                h3 {\n",
              "                    color: #009688;\n",
              "                    margin: 12px 0 6px 0;\n",
              "                }\n",
              "                .section {\n",
              "                    margin-bottom: 30px;\n",
              "                }\n",
              "                .metric {\n",
              "                    background: rgba(245, 245, 245, 0.9);\n",
              "                    padding: 16px;\n",
              "                    margin: 12px 0;\n",
              "                    border-radius: 8px;\n",
              "                    border-left: 4px solid #3f51b5;\n",
              "                    backdrop-filter: blur(2px);\n",
              "                }\n",
              "                .explainer {\n",
              "                    background: rgba(255, 255, 255, 0.7);\n",
              "                    padding: 12px;\n",
              "                    margin: 10px 0;\n",
              "                    border-radius: 6px;\n",
              "                    border-left: 3px solid #009688;\n",
              "                }\n",
              "                .score {\n",
              "                    font-weight: 600;\n",
              "                    color: #ff5722;\n",
              "                }\n",
              "                .interpretation {\n",
              "                    white-space: pre-wrap;\n",
              "                    background: rgba(255, 255, 255, 0.5);\n",
              "                    padding: 8px 12px;\n",
              "                    border-radius: 4px;\n",
              "                    margin-top: 8px;\n",
              "                }\n",
              "                .meta {\n",
              "                    color: #009688;\n",
              "                    font-size: 0.9em;\n",
              "                    margin-bottom: 12px;\n",
              "                }\n",
              "                .error {\n",
              "                    color: #d32f2f;\n",
              "                    padding: 10px;\n",
              "                    border-radius: 4px;\n",
              "                    background: rgba(211, 47, 47, 0.1);\n",
              "                }\n",
              "            </style>\n",
              "        </head>\n",
              "        <body>\n",
              "            <h1>Evaluation Metrics Report</h1>\n",
              "        \n",
              "            <div class=\"metric\">\n",
              "                <div class=\"metric-name\">AUTPC ↓</div>\n",
              "                <div class=\"metric-meta\">\n",
              "                    <strong>Definition:</strong> Evaluates explanation faithfulness by measuring performance drop when progressively masking top-salient tokens.<br>\n",
              "                    <strong>Direction:</strong> lower is better | \n",
              "                    <strong>Range:</strong> 0-1 (0 = most faithful, performance drops immediately when critical tokens are masked)\n",
              "                </div>\n",
              "            \n",
              "                <div class=\"explainer\">\n",
              "                    <div class=\"explainer-name\">Saliency</div>\n",
              "                    <div><strong>Score:</strong> 0.250</div>\n",
              "                    <div class=\"interpretation\"><strong>Analysis:</strong> The Saliency method&apos;s score of 0.250 on the AUTPC ↓ metric indicates that the performance of the model drops gradually as the top-salient tokens are masked, with a moderate level of faithfulness. This score suggests that the explanation method is somewhat effective in identifying critical tokens, but not extremely faithful, as a lower score (closer to 0) would indicate a more immediate performance drop when critical tokens are masked. Compared to the ideal value of 0, which represents the most faithful explanation, a score of 0.250 is relatively high, indicating that there is room for improvement in the explanation method&apos;s faithfulness.</div>\n",
              "                </div>\n",
              "                </div>\n",
              "            <div class=\"metric\">\n",
              "                <div class=\"metric-name\">Complexity ↓</div>\n",
              "                <div class=\"metric-meta\">\n",
              "                    <strong>Definition:</strong> Measures explanation conciseness by computing the entropy of normalized attribution scores. Lower values indicate simpler explanations focusing on few key features, while higher values suggest distributed feature importance<br>\n",
              "                    <strong>Direction:</strong> lower is better | \n",
              "                    <strong>Range:</strong> 0-1\n",
              "                </div>\n",
              "            \n",
              "                <div class=\"explainer\">\n",
              "                    <div class=\"explainer-name\">Saliency</div>\n",
              "                    <div><strong>Score:</strong> 0.012</div>\n",
              "                    <div class=\"interpretation\"><strong>Analysis:</strong> The Saliency method&apos;s score of 0.012 indicates that it provides extremely concise explanations, focusing on a very limited number of key features. This suggests good performance, as lower values are preferred, indicating that the method is able to identify the most important features without distributing importance across many features. Compared to the ideal value of 0, the Saliency method&apos;s score is very close, suggesting that it is performing nearly optimally in terms of explanation conciseness.</div>\n",
              "                </div>\n",
              "                </div>\n",
              "            <div class=\"metric\">\n",
              "                <div class=\"metric-name\">FAD ↓</div>\n",
              "                <div class=\"metric-meta\">\n",
              "                    <strong>Definition:</strong> Measures performance impact when dropping top-salient tokens, with curve steepness indicating faithfulness.<br>\n",
              "                    <strong>Direction:</strong> lower is better | \n",
              "                    <strong>Range:</strong> 0-1 (0 = perfect alignment with model&apos;s true feature importance)\n",
              "                </div>\n",
              "            \n",
              "                <div class=\"explainer\">\n",
              "                    <div class=\"explainer-name\">Saliency</div>\n",
              "                    <div><strong>Score:</strong> 1.000</div>\n",
              "                    <div class=\"interpretation\"><strong>Analysis:</strong> A Saliency method score of 1.000 on the FAD ↓ metric indicates that the method&apos;s explanations are completely unfaithful to the model&apos;s true feature importance, as the performance impact when dropping top-salient tokens is maximum. This is not a good performance, as a lower score is desirable, indicating that the method is not effective in identifying the most important features. In comparison to the ideal value of 0, which represents perfect alignment with the model&apos;s true feature importance, a score of 1.000 is the worst possible outcome, suggesting significant room for improvement in the explanation method.</div>\n",
              "                </div>\n",
              "                </div>\n",
              "            <div class=\"metric\">\n",
              "                <div class=\"metric-name\">Soft Comprehensiveness ↑</div>\n",
              "                <div class=\"metric-meta\">\n",
              "                    <strong>Definition:</strong> Measures how much the model&apos;s prediction relies on important tokens by probabilistically perturbing them based on importance scores.<br>\n",
              "                    <strong>Direction:</strong> higher is better | \n",
              "                    <strong>Range:</strong> 0-1 (1 = model completely relies on the important tokens)\n",
              "                </div>\n",
              "            \n",
              "                <div class=\"explainer\">\n",
              "                    <div class=\"explainer-name\">Saliency</div>\n",
              "                    <div><strong>Score:</strong> 0.256</div>\n",
              "                    <div class=\"interpretation\"><strong>Analysis:</strong> The Saliency method&apos;s score of 0.256 on the Soft Comprehensiveness ↑ metric indicates that the model&apos;s predictions moderately rely on the important tokens, but there is still a significant amount of reliance on less important tokens. This score suggests mediocre performance, as it falls far from the ideal value of 1, indicating that the model does not completely rely on the important tokens. In comparison to the ideal value of 1, where the model would entirely rely on important tokens, a score of 0.256 is relatively low, suggesting room for improvement in the explanation method&apos;s ability to identify crucial tokens.</div>\n",
              "                </div>\n",
              "                </div>\n",
              "            <div class=\"metric\">\n",
              "                <div class=\"metric-name\">Soft Sufficiency ↓</div>\n",
              "                <div class=\"metric-meta\">\n",
              "                    <strong>Definition:</strong> Measures how well important tokens preserve the model&apos;s prediction when other tokens are perturbed.<br>\n",
              "                    <strong>Direction:</strong> lower is better | \n",
              "                    <strong>Range:</strong> 0-1 (1 = important tokens perfectly maintain the prediction)\n",
              "                </div>\n",
              "            \n",
              "                <div class=\"explainer\">\n",
              "                    <div class=\"explainer-name\">Saliency</div>\n",
              "                    <div><strong>Score:</strong> 0.002</div>\n",
              "                    <div class=\"interpretation\"><strong>Analysis:</strong> A score of 0.002 on the Soft Sufficiency ↓ metric means that when important tokens identified by the Saliency method are preserved and other tokens are perturbed, the model&apos;s prediction is almost perfectly maintained, with only a negligible drop in performance. This indicates exceptionally good performance, as a lower score is better and a score close to 0 suggests that the important tokens are highly effective in preserving the model&apos;s prediction. Compared to the ideal value of 0, the Saliency method&apos;s score is extremely close, suggesting that it is nearly optimal in identifying important tokens that maintain the model&apos;s prediction when other tokens are perturbed.</div>\n",
              "                </div>\n",
              "                </div>\n",
              "            <div class=\"metric\">\n",
              "                <div class=\"metric-name\">Sparseness ↑</div>\n",
              "                <div class=\"metric-meta\">\n",
              "                    <strong>Definition:</strong> Quantifies explanation concentration using the Gini index. Measures whether only highly-attributed features are truly predictive.<br>\n",
              "                    <strong>Direction:</strong> higher is better | \n",
              "                    <strong>Range:</strong> 0-1 (1 = perfectly sparse, 0 = uniform importance across all features)\n",
              "                </div>\n",
              "            \n",
              "                <div class=\"explainer\">\n",
              "                    <div class=\"explainer-name\">Saliency</div>\n",
              "                    <div><strong>Score:</strong> 0.290</div>\n",
              "                    <div class=\"interpretation\"><strong>Analysis:</strong> The Saliency method&apos;s score of 0.290 on the Sparseness ↑ metric indicates that its explanations are somewhat concentrated, but not extremely so, as it falls closer to the uniform importance end of the spectrum. This score suggests mediocre performance, as it is far from the ideal value of 1, which represents perfectly sparse explanations where only highly-attributed features are truly predictive. In comparison to the ideal value of 1, a score of 0.290 is relatively low, indicating that the Saliency method&apos;s explanations could be improved in terms of concentration and feature importance.</div>\n",
              "                </div>\n",
              "                </div></body></html>'\n",
              "                style=\"width:100%; height:600px; border:none;\"\n",
              "                sandbox=\"allow-scripts\">\n",
              "        </iframe>\n",
              "        "
            ],
            "text/plain": [
              "<IPython.core.display.HTML object>"
            ]
          },
          "metadata": {},
          "output_type": "display_data"
        }
      ],
      "source": [
        "from EvaluationMetricsExplainer import EvaluationMetricsExplainer\n",
        "\n",
        "api_key = \"9b305c0291728a7f4ca861254b9bedd3e7785d5360100d93603dd1758931be6d\"\n",
        "explainer = EvaluationMetricsExplainer(api_key=api_key)\n",
        "\n",
        "results = explainer.explain_results(metrics)\n",
        "json_path, html_path = explainer.save_results(results)\n",
        "\n",
        "explainer.display_results(results)"
      ]
    },
    {
      "cell_type": "markdown",
      "metadata": {},
      "source": [
        "You can also do `Step 3` and `Step 4` together within a single function call."
      ]
    },
    {
      "cell_type": "code",
      "execution_count": 35,
      "metadata": {},
      "outputs": [
        {
          "name": "stdout",
          "output_type": "stream",
          "text": [
            "Processing instance 0\n",
            "Found cached explanation for Saliency\n",
            "Processing instance 1\n",
            "Found cached explanation for Saliency\n",
            "\n",
            "Explainer: Saliency\n",
            "Computing value for Complexity ↓\n",
            "Computing value for Soft Comprehensiveness ↑\n",
            "Computing value for Soft Sufficiency ↓\n",
            "Computing value for FAD ↓\n",
            "Computing value for Sparseness ↑\n",
            "Computing value for AUTPC ↓\n",
            "<pandas.io.formats.style.Styler object at 0x0000014A346152B0>\n"
          ]
        }
      ],
      "source": [
        "eval_metrics= xai_framework.benchmark_dataset(input_texts_sample, labels_sample,rationales=rationale_sample)"
      ]
    },
    {
      "cell_type": "code",
      "execution_count": 36,
      "metadata": {},
      "outputs": [
        {
          "data": {
            "text/html": [
              "<style type=\"text/css\">\n",
              "#T_575f8_row0_col0, #T_575f8_row0_col1, #T_575f8_row0_col2, #T_575f8_row0_col3 {\n",
              "  background-color: rgb(247, 100, 100);\n",
              "  color: black;\n",
              "  font-weight: bold;\n",
              "}\n",
              "#T_575f8_row0_col4, #T_575f8_row0_col5 {\n",
              "  background-color: rgb(197, 100, 197);\n",
              "  color: black;\n",
              "  font-weight: bold;\n",
              "}\n",
              "</style>\n",
              "<table id=\"T_575f8\">\n",
              "  <thead>\n",
              "    <tr>\n",
              "      <th class=\"index_name level0\" >Evaluator</th>\n",
              "      <th id=\"T_575f8_level0_col0\" class=\"col_heading level0 col0\" >Soft Comprehensiveness ↑</th>\n",
              "      <th id=\"T_575f8_level0_col1\" class=\"col_heading level0 col1\" >Soft Sufficiency ↓</th>\n",
              "      <th id=\"T_575f8_level0_col2\" class=\"col_heading level0 col2\" >AUTPC ↓</th>\n",
              "      <th id=\"T_575f8_level0_col3\" class=\"col_heading level0 col3\" >FAD ↓</th>\n",
              "      <th id=\"T_575f8_level0_col4\" class=\"col_heading level0 col4\" >Complexity ↓</th>\n",
              "      <th id=\"T_575f8_level0_col5\" class=\"col_heading level0 col5\" >Sparseness ↑</th>\n",
              "    </tr>\n",
              "    <tr>\n",
              "      <th class=\"index_name level0\" >Explainer</th>\n",
              "      <th class=\"blank col0\" >&nbsp;</th>\n",
              "      <th class=\"blank col1\" >&nbsp;</th>\n",
              "      <th class=\"blank col2\" >&nbsp;</th>\n",
              "      <th class=\"blank col3\" >&nbsp;</th>\n",
              "      <th class=\"blank col4\" >&nbsp;</th>\n",
              "      <th class=\"blank col5\" >&nbsp;</th>\n",
              "    </tr>\n",
              "  </thead>\n",
              "  <tbody>\n",
              "    <tr>\n",
              "      <th id=\"T_575f8_level0_row0\" class=\"row_heading level0 row0\" >Saliency</th>\n",
              "      <td id=\"T_575f8_row0_col0\" class=\"data row0 col0\" >0.286620</td>\n",
              "      <td id=\"T_575f8_row0_col1\" class=\"data row0 col1\" >0.001537</td>\n",
              "      <td id=\"T_575f8_row0_col2\" class=\"data row0 col2\" >0.250000</td>\n",
              "      <td id=\"T_575f8_row0_col3\" class=\"data row0 col3\" >1.000000</td>\n",
              "      <td id=\"T_575f8_row0_col4\" class=\"data row0 col4\" >0.011881</td>\n",
              "      <td id=\"T_575f8_row0_col5\" class=\"data row0 col5\" >0.289792</td>\n",
              "    </tr>\n",
              "  </tbody>\n",
              "</table>\n"
            ],
            "text/plain": [
              "<pandas.io.formats.style.Styler at 0x14a0a0186b0>"
            ]
          },
          "execution_count": 36,
          "metadata": {},
          "output_type": "execute_result"
        }
      ],
      "source": [
        "xai_framework.create_pivot_table(eval_metrics)"
      ]
    }
  ],
  "metadata": {
    "kernelspec": {
      "display_name": "venv",
      "language": "python",
      "name": "python3"
    },
    "language_info": {
      "codemirror_mode": {
        "name": "ipython",
        "version": 3
      },
      "file_extension": ".py",
      "mimetype": "text/x-python",
      "name": "python",
      "nbconvert_exporter": "python",
      "pygments_lexer": "ipython3",
      "version": "3.12.9"
    }
  },
  "nbformat": 4,
  "nbformat_minor": 2
}
