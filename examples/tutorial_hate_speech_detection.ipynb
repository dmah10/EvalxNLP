{
  "cells": [
    {
      "cell_type": "markdown",
      "metadata": {},
      "source": [
        "## How to Use EvalxNLP Framework for Hate Speech Detection – A Beginner-Friendly Guide 🚀"
      ]
    },
    {
      "cell_type": "markdown",
      "metadata": {},
      "source": [
        "Hate speech detection is a Natural Language Processing (NLP) task that involves identifying and classifying text that expresses hatred, discrimination, or violence against individuals or groups based on attributes such as race, religion, gender, or sexual orientation.\n",
        "\n",
        "### Hate Speech Detection:\n",
        "- **Hate Speech**: Text that explicitly promotes hatred or violence.\n",
        "- **Offensive Language**: Text that is rude or offensive but does not explicitly promote hatred.\n",
        "- **Neutral**: Text that does not contain hate speech or offensive language."
      ]
    },
    {
      "cell_type": "code",
      "execution_count": 128,
      "metadata": {},
      "outputs": [],
      "source": [
        "import sys\n",
        "sys.path.append('..')\n",
        "from XAIbenchmark import XAIFramework\n",
        "import warnings\n",
        "\n",
        "warnings.filterwarnings(\"ignore\")"
      ]
    },
    {
      "cell_type": "code",
      "execution_count": 129,
      "metadata": {},
      "outputs": [
        {
          "name": "stdout",
          "output_type": "stream",
          "text": [
            "The autoreload extension is already loaded. To reload it, use:\n",
            "  %reload_ext autoreload\n"
          ]
        }
      ],
      "source": [
        "%load_ext autoreload\n",
        "%autoreload 2"
      ]
    },
    {
      "cell_type": "markdown",
      "metadata": {},
      "source": [
        "#### Single Sentence"
      ]
    },
    {
      "cell_type": "markdown",
      "metadata": {},
      "source": [
        "Step 1: Load a pre-trained Hate Speech detection Model, and Tokenizer"
      ]
    },
    {
      "cell_type": "code",
      "execution_count": 130,
      "metadata": {},
      "outputs": [],
      "source": [
        "from transformers import AutoModelForSequenceClassification, AutoTokenizer\n",
        "\n",
        "model_name = \"Hate-speech-CNERG/bert-base-uncased-hatexplain\"\n",
        "tokenizer = AutoTokenizer.from_pretrained(model_name)\n",
        "model = AutoModelForSequenceClassification.from_pretrained(model_name)"
      ]
    },
    {
      "cell_type": "markdown",
      "metadata": {},
      "source": [
        "Step 2: Optionally initialize the explainers, and evaluators"
      ]
    },
    {
      "cell_type": "code",
      "execution_count": 131,
      "metadata": {},
      "outputs": [],
      "source": [
        "import torch\n",
        "from explainers import InputXGradientExplainer, IntegratedGradientsExplainer, DeepLiftExplainer, LimeExplainer, SHAPExplainer, SHAPIQExplainer, GuidedBackpropExplainer\n",
        "device = \"cuda\" if torch.cuda.is_available() else \"cpu\"\n",
        "ig= IntegratedGradientsExplainer(model,tokenizer,device)\n",
        "gb= GuidedBackpropExplainer(model,tokenizer,device)\n",
        "dl= DeepLiftExplainer(model,tokenizer,device)\n",
        "ixg= InputXGradientExplainer(model,tokenizer,device,multiply_by_inputs=True)\n",
        "g= InputXGradientExplainer(model,tokenizer,device,multiply_by_inputs=False)\n",
        "lime= LimeExplainer(model,tokenizer)\n",
        "shap= SHAPExplainer(model,tokenizer)\n",
        "shapiq= SHAPIQExplainer(model,tokenizer)"
      ]
    },
    {
      "cell_type": "code",
      "execution_count": 132,
      "metadata": {},
      "outputs": [],
      "source": [
        "from evaluators import AUCTPEvaluator, SoftComprehensivenessEvaluator, SoftSufficiencyEvaluator, FADEvaluator, SparsenessEvaluator, ComplexityEvaluator, IOUF1Evaluator,TokenF1Evaluator, AUPRCEvaluator\n",
        "\n",
        "sc= SoftComprehensivenessEvaluator(model,tokenizer,device)\n",
        "ss= SoftSufficiencyEvaluator(model,tokenizer,device)\n",
        "fad= FADEvaluator(model,tokenizer,device)\n",
        "sp= SparsenessEvaluator(model,tokenizer,device)\n",
        "cx= ComplexityEvaluator(model,tokenizer,device)\n",
        "auctp= AUCTPEvaluator(model,tokenizer,device)\n",
        "iou_f1= IOUF1Evaluator(model,tokenizer,device)\n",
        "token_f1= TokenF1Evaluator(model,tokenizer,device)\n",
        "auprc= AUPRCEvaluator(model,tokenizer,device)"
      ]
    },
    {
      "cell_type": "markdown",
      "metadata": {},
      "source": [
        "Step 3: Inialize XAIBenchmark Class"
      ]
    },
    {
      "cell_type": "code",
      "execution_count": 133,
      "metadata": {},
      "outputs": [],
      "source": [
        "xai_framework = XAIFramework(model, tokenizer,explainers=[dl], evaluators=[auprc],device=device)"
      ]
    },
    {
      "cell_type": "markdown",
      "metadata": {},
      "source": [
        "> **Note:** If you don’t pass any explainers or evaluators, it defaults to all explainers/evaluators."
      ]
    },
    {
      "cell_type": "markdown",
      "metadata": {},
      "source": [
        "Step 4: Detect Hate Speech"
      ]
    },
    {
      "cell_type": "code",
      "execution_count": 8,
      "metadata": {},
      "outputs": [
        {
          "name": "stderr",
          "output_type": "stream",
          "text": [
            "BertSdpaSelfAttention is used but `torch.nn.functional.scaled_dot_product_attention` does not support non-absolute `position_embedding_type` or `output_attentions=True` or `head_mask`. Falling back to the manual attention implementation, but specifying the manual implementation will be required from Transformers version v5.0.0 onwards. This warning can be removed using the argument `attn_implementation=\"eager\"` when loading the model.\n"
          ]
        },
        {
          "data": {
            "text/plain": [
              "{'hate speech': 0.06156373396515846,\n",
              " 'normal': 0.6611422896385193,\n",
              " 'offensive': 0.27729398012161255}"
            ]
          },
          "execution_count": 8,
          "metadata": {},
          "output_type": "execute_result"
        }
      ],
      "source": [
        "sentence= \"I hate people from that community\"\n",
        "xai_framework.classify_text(sentence)"
      ]
    },
    {
      "cell_type": "markdown",
      "metadata": {},
      "source": [
        "Step 5: Use EvalxNLP to Explain Why"
      ]
    },
    {
      "cell_type": "markdown",
      "metadata": {},
      "source": [
        "You can use the `XAIBenchmark` class to explain for all the explainers defined during the initiation of the `XAIBenchmark` class"
      ]
    },
    {
      "cell_type": "code",
      "execution_count": null,
      "metadata": {},
      "outputs": [],
      "source": [
        "exps= xai_framework.explain(input_data=sentence,target_label=\"offensive\")"
      ]
    },
    {
      "cell_type": "markdown",
      "metadata": {},
      "source": [
        "Or you can use an individual explainer's `compute_feature_importance` method to get importance scores."
      ]
    },
    {
      "cell_type": "code",
      "execution_count": 28,
      "metadata": {},
      "outputs": [
        {
          "name": "stderr",
          "output_type": "stream",
          "text": [
            "Running Inference: 100%|██████████| 8/8 [00:24<00:00,  3.05s/it]\n"
          ]
        }
      ],
      "source": [
        "ig_exps= ig.compute_feature_importance(sentence, target=\"offensive\")\n",
        "gb_exps= gb.compute_feature_importance(sentence, target=\"offensive\")\n",
        "dl_exps= dl.compute_feature_importance(sentence, target=\"offensive\")\n",
        "ixg_exps= ixg.compute_feature_importance(sentence, target=\"offensive\")\n",
        "lime_exps= lime.compute_feature_importance(sentence, target=\"offensive\")\n",
        "shap_exps= shap.compute_feature_importance(sentence, target=\"offensive\")\n",
        "shapiq_exps= shapiq.compute_feature_importance(sentence, target=\"offensive\")\n",
        "g_exps= g.compute_feature_importance(sentence, target=\"offensive\")"
      ]
    },
    {
      "cell_type": "markdown",
      "metadata": {},
      "source": [
        "Step 5: Visualize the Explanation"
      ]
    },
    {
      "cell_type": "code",
      "execution_count": 54,
      "metadata": {},
      "outputs": [
        {
          "data": {
            "image/png": "[encoded data removed]",
            "text/plain": [
              "<Figure size 1200x800 with 2 Axes>"
            ]
          },
          "metadata": {},
          "output_type": "display_data"
        }
      ],
      "source": [
        "xai_framework.visualize(exps)"
      ]
    },
    {
      "cell_type": "markdown",
      "metadata": {},
      "source": [
        "📌 How to Interpret EvalxNLP's Results?\n",
        "\n",
        "This heatmap shows how different explanation methods (feature attribution techniques) assign importance scores to different words (tokens) in a sentence.\n",
        "\n",
        "Each row represents a different explanation method, and each column represents a token (word or punctuation) from the input sentence.\n",
        "\n",
        "🔴 Red (Positive Score) → Word contributes positively to the prediction.\n",
        "\n",
        "🔵 Blue (Negative Score) → Word contributes negatively to the prediction.\n",
        "\n",
        "⚪ White/Neutral (Close to 0) → Word has little to no effect on the prediction.\n",
        "\n"
      ]
    },
    {
      "cell_type": "markdown",
      "metadata": {},
      "source": [
        "Step 5: Evaluate the explanations"
      ]
    },
    {
      "cell_type": "markdown",
      "metadata": {},
      "source": [
        "You can evaluate explanations from different explainers initialized during the creation of the `XAIBenchmark` class using the `evaluate_single_sentence` function.\n",
        "\n",
        "- If you provide a **human rationale**, **plausibility metrics** will be calculated.  \n",
        "- If no rationale is provided, plausibility metrics **will not** be included.  "
      ]
    },
    {
      "cell_type": "code",
      "execution_count": null,
      "metadata": {},
      "outputs": [
        {
          "name": "stdout",
          "output_type": "stream",
          "text": [
            "explainer deeplift\n",
            "explainer integratedgradient\n",
            "explainer guidedbackprop\n"
          ]
        },
        {
          "data": {
            "text/html": [
              "<div>\n",
              "<style scoped>\n",
              "    .dataframe tbody tr th:only-of-type {\n",
              "        vertical-align: middle;\n",
              "    }\n",
              "\n",
              "    .dataframe tbody tr th {\n",
              "        vertical-align: top;\n",
              "    }\n",
              "\n",
              "    .dataframe thead th {\n",
              "        text-align: right;\n",
              "    }\n",
              "</style>\n",
              "<table border=\"1\" class=\"dataframe\">\n",
              "  <thead>\n",
              "    <tr style=\"text-align: right;\">\n",
              "      <th>Evaluator</th>\n",
              "      <th>Complexity</th>\n",
              "      <th>Sparseness</th>\n",
              "      <th>Token F1 score</th>\n",
              "    </tr>\n",
              "    <tr>\n",
              "      <th>Explainer</th>\n",
              "      <th></th>\n",
              "      <th></th>\n",
              "      <th></th>\n",
              "    </tr>\n",
              "  </thead>\n",
              "  <tbody>\n",
              "    <tr>\n",
              "      <th>deeplift</th>\n",
              "      <td>0.169709</td>\n",
              "      <td>0.248963</td>\n",
              "      <td>0.5</td>\n",
              "    </tr>\n",
              "    <tr>\n",
              "      <th>guidedbackprop</th>\n",
              "      <td>0.136688</td>\n",
              "      <td>0.466892</td>\n",
              "      <td>0.5</td>\n",
              "    </tr>\n",
              "    <tr>\n",
              "      <th>integratedgradient</th>\n",
              "      <td>0.150333</td>\n",
              "      <td>0.394562</td>\n",
              "      <td>0.5</td>\n",
              "    </tr>\n",
              "  </tbody>\n",
              "</table>\n",
              "</div>"
            ],
            "text/plain": [
              "Evaluator           Complexity  Sparseness  Token F1 score\n",
              "Explainer                                                 \n",
              "deeplift              0.169709    0.248963             0.5\n",
              "guidedbackprop        0.136688    0.466892             0.5\n",
              "integratedgradient    0.150333    0.394562             0.5"
            ]
          },
          "execution_count": 18,
          "metadata": {},
          "output_type": "execute_result"
        }
      ],
      "source": [
        "xai_framework.evaluate_single_sentence(sentence, target_label=\"offensive\")"
      ]
    },
    {
      "cell_type": "markdown",
      "metadata": {},
      "source": [
        "Alternatively, you can use each evaluator’s `compute` function to assess individual metrics.  \n",
        "For **plausibility metrics**, make sure to **add a rationale** to the explanation object before evaluation."
      ]
    },
    {
      "cell_type": "code",
      "execution_count": 19,
      "metadata": {},
      "outputs": [
        {
          "data": {
            "text/plain": [
              "np.float64(0.33766233766233766)"
            ]
          },
          "execution_count": 19,
          "metadata": {},
          "output_type": "execute_result"
        }
      ],
      "source": [
        "ig_exps.rationale= [0, 1, 0, 1, 0,0,0,0,1,0,1,0]\n",
        "iou_f1.compute(ig_exps)\n",
        "auprc.compute(ig_exps)"
      ]
    },
    {
      "cell_type": "markdown",
      "metadata": {},
      "source": [
        "#### Dataset"
      ]
    },
    {
      "cell_type": "markdown",
      "metadata": {},
      "source": [
        "Step 1: Load the model and tokenizer"
      ]
    },
    {
      "cell_type": "code",
      "execution_count": 9,
      "metadata": {},
      "outputs": [],
      "source": [
        "from transformers import AutoModelForSequenceClassification, AutoTokenizer\n",
        "\n",
        "model_name = \"Hate-speech-CNERG/bert-base-uncased-hatexplain\"\n",
        "tokenizer = AutoTokenizer.from_pretrained(model_name)\n",
        "model = AutoModelForSequenceClassification.from_pretrained(model_name)"
      ]
    },
    {
      "cell_type": "markdown",
      "metadata": {},
      "source": [
        "Step 2: Load the dataset"
      ]
    },
    {
      "cell_type": "markdown",
      "metadata": {},
      "source": [
        "You can load any text classification dataset using the `load_fields_from_dataset` function, provided you specify the `LoadDatasetArgs` as follows:  \n",
        "- **`dataset_name`** - The field containing dataset name on huggingface/ \"csv\", \"json\", etc for local files\n",
        "- **`input_text_field`** – The field containing the text data.  \n",
        "- **`label_field`** – The field containing the class labels.  \n",
        "- **`rationale_field`** (optional) – The field marking important tokens in the text.\n",
        "- **`dataset_files`** (optional) - The field containing filepath to a local csv/excel file e.g. [\"healthFC_annotated.csv\"]"
      ]
    },
    {
      "cell_type": "markdown",
      "metadata": {},
      "source": [
        "HuggingFace Dataset"
      ]
    },
    {
      "cell_type": "code",
      "execution_count": 183,
      "metadata": {},
      "outputs": [
        {
          "name": "stdout",
          "output_type": "stream",
          "text": [
            "Loading dataset...\n"
          ]
        }
      ],
      "source": [
        "from dataset_loaders.dataset_loader import LoadDatasetArgs,load_fields_from_dataset\n",
        "\n",
        "dataset_args_ = LoadDatasetArgs(\n",
        "    dataset_name=\"Hate-speech-CNERG/hatexplain\",\n",
        "    text_field=\"post_tokens\",\n",
        "    label_field=\"annotators\",\n",
        "    rationale_field=\"rationales\",\n",
        "    dataset_split=\"test\",\n",
        ")\n",
        "\n",
        "# Load the dataset fields\n",
        "results = load_fields_from_dataset(dataset_args_)"
      ]
    },
    {
      "cell_type": "code",
      "execution_count": null,
      "metadata": {},
      "outputs": [
        {
          "data": {
            "text/plain": [
              "array([], dtype=object)"
            ]
          },
          "execution_count": 265,
          "metadata": {},
          "output_type": "execute_result"
        }
      ],
      "source": [
        "input_texts= results['text']\n",
        "labels= results['labels']\n",
        "rationales= results['rationales']"
      ]
    },
    {
      "cell_type": "markdown",
      "metadata": {},
      "source": [
        "Expected Outputs:\n",
        "\n",
        "- **`input_texts`** → An array of strings (text samples).  \n",
        "- **`labels`** → An array of strings (corresponding class labels).  \n",
        "- **`rationale`** → An array of binary values (`0` or `1`), indicating which tokens in the text are important.  \n",
        "\n",
        "*You can preprocess or postprocess the data to ensure it is in the expected format if needed.*"
      ]
    },
    {
      "cell_type": "markdown",
      "metadata": {},
      "source": [
        "Pre-processing"
      ]
    },
    {
      "cell_type": "code",
      "execution_count": 322,
      "metadata": {},
      "outputs": [],
      "source": [
        "from dataset_loaders.hatexplain import HateSpeechProcessor\n",
        "\n",
        "hs= HateSpeechProcessor(tokenizer)\n",
        "processed_input_texts, processed_labels, processed_rationales= hs.process_dataset(input_texts, labels, rationales)"
      ]
    },
    {
      "cell_type": "markdown",
      "metadata": {},
      "source": [
        "Select a sub-sample of the dataset"
      ]
    },
    {
      "cell_type": "code",
      "execution_count": 326,
      "metadata": {},
      "outputs": [],
      "source": [
        "#Select a sub-sample if you want\n",
        "input_texts_sample=processed_input_texts[300:500]\n",
        "labels_sample=processed_labels[300:500]\n",
        "rationale_sample= processed_rationales[300:500]"
      ]
    },
    {
      "cell_type": "code",
      "execution_count": 318,
      "metadata": {},
      "outputs": [
        {
          "data": {
            "text/plain": [
              "41"
            ]
          },
          "execution_count": 318,
          "metadata": {},
          "output_type": "execute_result"
        }
      ],
      "source": [
        "len(processed_rationales[31])"
      ]
    },
    {
      "cell_type": "code",
      "execution_count": 310,
      "metadata": {},
      "outputs": [
        {
          "name": "stdout",
          "output_type": "stream",
          "text": [
            "0\n"
          ]
        }
      ],
      "source": [
        "# print(input_texts_sample)\n",
        "# print(labels_sample)\n",
        "print(len(rationale_sample[3]))"
      ]
    },
    {
      "cell_type": "markdown",
      "metadata": {},
      "source": [
        "Step 3: Generate Explanations"
      ]
    },
    {
      "cell_type": "code",
      "execution_count": 327,
      "metadata": {},
      "outputs": [
        {
          "name": "stdout",
          "output_type": "stream",
          "text": [
            "Processing instance 0\n",
            "Found cached explanation for deeplift\n",
            "Processing instance 1\n",
            "Found cached explanation for deeplift\n",
            "Processing instance 2\n",
            "Found cached explanation for deeplift\n",
            "Processing instance 3\n",
            "Found cached explanation for deeplift\n",
            "Processing instance 4\n",
            "Found cached explanation for deeplift\n",
            "Processing instance 5\n",
            "Found cached explanation for deeplift\n",
            "Processing instance 6\n",
            "Found cached explanation for deeplift\n",
            "Processing instance 7\n",
            "Found cached explanation for deeplift\n",
            "Processing instance 8\n",
            "Found cached explanation for deeplift\n",
            "Processing instance 9\n",
            "Found cached explanation for deeplift\n",
            "Processing instance 10\n",
            "Found cached explanation for deeplift\n",
            "Processing instance 11\n",
            "Found cached explanation for deeplift\n",
            "Processing instance 12\n",
            "Found cached explanation for deeplift\n",
            "Processing instance 13\n",
            "Found cached explanation for deeplift\n",
            "Processing instance 14\n",
            "Found cached explanation for deeplift\n",
            "Processing instance 15\n",
            "Found cached explanation for deeplift\n",
            "Processing instance 16\n",
            "Found cached explanation for deeplift\n",
            "Processing instance 17\n",
            "Found cached explanation for deeplift\n",
            "Processing instance 18\n",
            "Found cached explanation for deeplift\n",
            "Processing instance 19\n",
            "Found cached explanation for deeplift\n",
            "Processing instance 20\n",
            "Found cached explanation for deeplift\n",
            "Processing instance 21\n",
            "Found cached explanation for deeplift\n",
            "Processing instance 22\n",
            "Found cached explanation for deeplift\n",
            "Processing instance 23\n",
            "Found cached explanation for deeplift\n",
            "Processing instance 24\n",
            "Found cached explanation for deeplift\n",
            "Processing instance 25\n",
            "Found cached explanation for deeplift\n",
            "Processing instance 26\n",
            "Found cached explanation for deeplift\n",
            "Processing instance 27\n",
            "Found cached explanation for deeplift\n",
            "Processing instance 28\n",
            "Found cached explanation for deeplift\n",
            "Processing instance 29\n",
            "Found cached explanation for deeplift\n",
            "Processing instance 30\n",
            "Found cached explanation for deeplift\n",
            "Processing instance 31\n",
            "Found cached explanation for deeplift\n",
            "Processing instance 32\n",
            "Found cached explanation for deeplift\n",
            "Processing instance 33\n",
            "Found cached explanation for deeplift\n",
            "Processing instance 34\n",
            "Found cached explanation for deeplift\n",
            "Processing instance 35\n",
            "Found cached explanation for deeplift\n",
            "Processing instance 36\n",
            "Found cached explanation for deeplift\n",
            "Processing instance 37\n",
            "Found cached explanation for deeplift\n",
            "Processing instance 38\n",
            "Found cached explanation for deeplift\n",
            "Processing instance 39\n",
            "Found cached explanation for deeplift\n",
            "Processing instance 40\n",
            "Found cached explanation for deeplift\n",
            "Processing instance 41\n",
            "Found cached explanation for deeplift\n",
            "Processing instance 42\n",
            "Found cached explanation for deeplift\n",
            "Processing instance 43\n",
            "Found cached explanation for deeplift\n",
            "Processing instance 44\n",
            "Found cached explanation for deeplift\n",
            "Processing instance 45\n",
            "Found cached explanation for deeplift\n",
            "Processing instance 46\n",
            "Found cached explanation for deeplift\n",
            "Processing instance 47\n",
            "Found cached explanation for deeplift\n",
            "Processing instance 48\n",
            "Found cached explanation for deeplift\n",
            "Processing instance 49\n",
            "Found cached explanation for deeplift\n",
            "Processing instance 50\n",
            "Found cached explanation for deeplift\n",
            "Processing instance 51\n",
            "Found cached explanation for deeplift\n",
            "Processing instance 52\n",
            "Found cached explanation for deeplift\n",
            "Processing instance 53\n",
            "Found cached explanation for deeplift\n",
            "Processing instance 54\n",
            "Found cached explanation for deeplift\n",
            "Processing instance 55\n",
            "Found cached explanation for deeplift\n",
            "Processing instance 56\n",
            "Found cached explanation for deeplift\n",
            "Processing instance 57\n",
            "Found cached explanation for deeplift\n",
            "Processing instance 58\n",
            "Found cached explanation for deeplift\n",
            "Processing instance 59\n",
            "Found cached explanation for deeplift\n",
            "Processing instance 60\n",
            "Found cached explanation for deeplift\n",
            "Processing instance 61\n",
            "Found cached explanation for deeplift\n",
            "Processing instance 62\n",
            "Found cached explanation for deeplift\n",
            "Processing instance 63\n",
            "Found cached explanation for deeplift\n",
            "Processing instance 64\n",
            "Found cached explanation for deeplift\n",
            "Processing instance 65\n",
            "Found cached explanation for deeplift\n",
            "Processing instance 66\n",
            "Found cached explanation for deeplift\n",
            "Processing instance 67\n",
            "Found cached explanation for deeplift\n",
            "Processing instance 68\n",
            "Found cached explanation for deeplift\n",
            "Processing instance 69\n",
            "Found cached explanation for deeplift\n",
            "Processing instance 70\n",
            "Found cached explanation for deeplift\n",
            "Processing instance 71\n",
            "Found cached explanation for deeplift\n",
            "Processing instance 72\n",
            "Found cached explanation for deeplift\n",
            "Processing instance 73\n",
            "Found cached explanation for deeplift\n",
            "Processing instance 74\n",
            "Found cached explanation for deeplift\n",
            "Processing instance 75\n",
            "Found cached explanation for deeplift\n",
            "Processing instance 76\n",
            "Found cached explanation for deeplift\n",
            "Processing instance 77\n",
            "Found cached explanation for deeplift\n",
            "Processing instance 78\n",
            "Found cached explanation for deeplift\n",
            "Processing instance 79\n",
            "Found cached explanation for deeplift\n",
            "Processing instance 80\n",
            "Found cached explanation for deeplift\n",
            "Processing instance 81\n",
            "Found cached explanation for deeplift\n",
            "Processing instance 82\n",
            "Found cached explanation for deeplift\n",
            "Processing instance 83\n",
            "Found cached explanation for deeplift\n",
            "Processing instance 84\n",
            "Found cached explanation for deeplift\n",
            "Processing instance 85\n",
            "Found cached explanation for deeplift\n",
            "Processing instance 86\n",
            "Found cached explanation for deeplift\n",
            "Processing instance 87\n",
            "Found cached explanation for deeplift\n",
            "Processing instance 88\n",
            "Found cached explanation for deeplift\n",
            "Processing instance 89\n",
            "Found cached explanation for deeplift\n",
            "Processing instance 90\n",
            "Found cached explanation for deeplift\n",
            "Processing instance 91\n",
            "Found cached explanation for deeplift\n",
            "Processing instance 92\n",
            "Found cached explanation for deeplift\n",
            "Processing instance 93\n",
            "Found cached explanation for deeplift\n",
            "Processing instance 94\n",
            "Found cached explanation for deeplift\n",
            "Processing instance 95\n",
            "Found cached explanation for deeplift\n",
            "Processing instance 96\n",
            "Found cached explanation for deeplift\n",
            "Processing instance 97\n",
            "Found cached explanation for deeplift\n",
            "Processing instance 98\n",
            "Found cached explanation for deeplift\n",
            "Processing instance 99\n",
            "Found cached explanation for deeplift\n",
            "Processing instance 100\n",
            "Computing explanation for deeplift\n",
            "Processing instance 101\n",
            "Computing explanation for deeplift\n",
            "Processing instance 102\n",
            "Computing explanation for deeplift\n",
            "Processing instance 103\n",
            "Computing explanation for deeplift\n",
            "Processing instance 104\n",
            "Computing explanation for deeplift\n",
            "Processing instance 105\n",
            "Computing explanation for deeplift\n",
            "Processing instance 106\n",
            "Computing explanation for deeplift\n",
            "Processing instance 107\n",
            "Computing explanation for deeplift\n",
            "Processing instance 108\n",
            "Computing explanation for deeplift\n",
            "Processing instance 109\n",
            "Computing explanation for deeplift\n",
            "Processing instance 110\n",
            "Computing explanation for deeplift\n",
            "Processing instance 111\n",
            "Computing explanation for deeplift\n",
            "Processing instance 112\n",
            "Computing explanation for deeplift\n",
            "Processing instance 113\n",
            "Computing explanation for deeplift\n",
            "Processing instance 114\n",
            "Computing explanation for deeplift\n",
            "Processing instance 115\n",
            "Computing explanation for deeplift\n",
            "Processing instance 116\n",
            "Computing explanation for deeplift\n",
            "Processing instance 117\n",
            "Computing explanation for deeplift\n",
            "Processing instance 118\n",
            "Computing explanation for deeplift\n",
            "Processing instance 119\n",
            "Computing explanation for deeplift\n",
            "Processing instance 120\n",
            "Computing explanation for deeplift\n",
            "Processing instance 121\n",
            "Computing explanation for deeplift\n",
            "Processing instance 122\n",
            "Computing explanation for deeplift\n",
            "Processing instance 123\n",
            "Computing explanation for deeplift\n",
            "Processing instance 124\n",
            "Computing explanation for deeplift\n",
            "Processing instance 125\n",
            "Computing explanation for deeplift\n",
            "Processing instance 126\n",
            "Computing explanation for deeplift\n",
            "Processing instance 127\n",
            "Computing explanation for deeplift\n",
            "Processing instance 128\n",
            "Computing explanation for deeplift\n",
            "Processing instance 129\n",
            "Computing explanation for deeplift\n",
            "Processing instance 130\n",
            "Computing explanation for deeplift\n",
            "Processing instance 131\n",
            "Computing explanation for deeplift\n",
            "Processing instance 132\n",
            "Computing explanation for deeplift\n",
            "Processing instance 133\n",
            "Computing explanation for deeplift\n",
            "Processing instance 134\n",
            "Computing explanation for deeplift\n",
            "Processing instance 135\n",
            "Computing explanation for deeplift\n",
            "Processing instance 136\n",
            "Computing explanation for deeplift\n",
            "Processing instance 137\n",
            "Computing explanation for deeplift\n",
            "Processing instance 138\n",
            "Computing explanation for deeplift\n",
            "Processing instance 139\n",
            "Computing explanation for deeplift\n",
            "Processing instance 140\n",
            "Computing explanation for deeplift\n",
            "Processing instance 141\n",
            "Computing explanation for deeplift\n",
            "Processing instance 142\n",
            "Computing explanation for deeplift\n",
            "Processing instance 143\n",
            "Computing explanation for deeplift\n",
            "Processing instance 144\n",
            "Computing explanation for deeplift\n",
            "Processing instance 145\n",
            "Computing explanation for deeplift\n",
            "Processing instance 146\n",
            "Computing explanation for deeplift\n",
            "Processing instance 147\n",
            "Computing explanation for deeplift\n",
            "Processing instance 148\n",
            "Computing explanation for deeplift\n",
            "Processing instance 149\n",
            "Computing explanation for deeplift\n",
            "Processing instance 150\n",
            "Computing explanation for deeplift\n",
            "Processing instance 151\n",
            "Computing explanation for deeplift\n",
            "Processing instance 152\n",
            "Computing explanation for deeplift\n",
            "Processing instance 153\n",
            "Computing explanation for deeplift\n",
            "Processing instance 154\n",
            "Computing explanation for deeplift\n",
            "Processing instance 155\n",
            "Computing explanation for deeplift\n",
            "Processing instance 156\n",
            "Computing explanation for deeplift\n",
            "Processing instance 157\n",
            "Computing explanation for deeplift\n",
            "Processing instance 158\n",
            "Computing explanation for deeplift\n",
            "Processing instance 159\n",
            "Computing explanation for deeplift\n",
            "Processing instance 160\n",
            "Computing explanation for deeplift\n",
            "Processing instance 161\n",
            "Computing explanation for deeplift\n",
            "Processing instance 162\n",
            "Computing explanation for deeplift\n",
            "Processing instance 163\n",
            "Computing explanation for deeplift\n",
            "Processing instance 164\n",
            "Computing explanation for deeplift\n",
            "Processing instance 165\n",
            "Computing explanation for deeplift\n",
            "Processing instance 166\n",
            "Computing explanation for deeplift\n",
            "Processing instance 167\n",
            "Computing explanation for deeplift\n",
            "Processing instance 168\n",
            "Computing explanation for deeplift\n",
            "Processing instance 169\n",
            "Computing explanation for deeplift\n",
            "Processing instance 170\n",
            "Computing explanation for deeplift\n",
            "Processing instance 171\n",
            "Computing explanation for deeplift\n",
            "Processing instance 172\n",
            "Computing explanation for deeplift\n",
            "Processing instance 173\n",
            "Computing explanation for deeplift\n",
            "Processing instance 174\n",
            "Computing explanation for deeplift\n",
            "Processing instance 175\n",
            "Computing explanation for deeplift\n",
            "Processing instance 176\n",
            "Computing explanation for deeplift\n",
            "Processing instance 177\n",
            "Computing explanation for deeplift\n",
            "Processing instance 178\n",
            "Computing explanation for deeplift\n",
            "Processing instance 179\n",
            "Computing explanation for deeplift\n",
            "Processing instance 180\n",
            "Computing explanation for deeplift\n",
            "Processing instance 181\n",
            "Computing explanation for deeplift\n",
            "Processing instance 182\n",
            "Computing explanation for deeplift\n",
            "Processing instance 183\n",
            "Computing explanation for deeplift\n",
            "Processing instance 184\n",
            "Computing explanation for deeplift\n",
            "Processing instance 185\n",
            "Computing explanation for deeplift\n",
            "Processing instance 186\n",
            "Computing explanation for deeplift\n",
            "Processing instance 187\n",
            "Computing explanation for deeplift\n",
            "Processing instance 188\n",
            "Computing explanation for deeplift\n",
            "Processing instance 189\n",
            "Computing explanation for deeplift\n",
            "Processing instance 190\n",
            "Computing explanation for deeplift\n",
            "Processing instance 191\n",
            "Computing explanation for deeplift\n",
            "Processing instance 192\n",
            "Computing explanation for deeplift\n",
            "Processing instance 193\n",
            "Computing explanation for deeplift\n",
            "Processing instance 194\n",
            "Computing explanation for deeplift\n",
            "Processing instance 195\n",
            "Computing explanation for deeplift\n",
            "Processing instance 196\n",
            "Computing explanation for deeplift\n",
            "Processing instance 197\n",
            "Computing explanation for deeplift\n",
            "Processing instance 198\n",
            "Computing explanation for deeplift\n",
            "Processing instance 199\n",
            "Computing explanation for deeplift\n"
          ]
        }
      ],
      "source": [
        "exp_scores= xai_framework.get_feature_importance_for_dataset(input_texts_sample,labels_sample,rationale_sample)"
      ]
    },
    {
      "cell_type": "code",
      "execution_count": 320,
      "metadata": {},
      "outputs": [
        {
          "data": {
            "text/plain": [
              "43"
            ]
          },
          "execution_count": 320,
          "metadata": {},
          "output_type": "execute_result"
        }
      ],
      "source": [
        "len(exp_scores['deeplift'][1].tokens)"
      ]
    },
    {
      "cell_type": "markdown",
      "metadata": {},
      "source": [
        "Step 4: Evaluate Explanations and generate table "
      ]
    },
    {
      "cell_type": "code",
      "execution_count": 328,
      "metadata": {},
      "outputs": [
        {
          "name": "stdout",
          "output_type": "stream",
          "text": [
            "\n",
            "Explainer: deeplift\n",
            "Computing value for Area under PR Curve\n"
          ]
        },
        {
          "data": {
            "text/html": [
              "<div>\n",
              "<style scoped>\n",
              "    .dataframe tbody tr th:only-of-type {\n",
              "        vertical-align: middle;\n",
              "    }\n",
              "\n",
              "    .dataframe tbody tr th {\n",
              "        vertical-align: top;\n",
              "    }\n",
              "\n",
              "    .dataframe thead th {\n",
              "        text-align: right;\n",
              "    }\n",
              "</style>\n",
              "<table border=\"1\" class=\"dataframe\">\n",
              "  <thead>\n",
              "    <tr style=\"text-align: right;\">\n",
              "      <th>Evaluator</th>\n",
              "      <th>Area under PR Curve</th>\n",
              "    </tr>\n",
              "    <tr>\n",
              "      <th>Explainer</th>\n",
              "      <th></th>\n",
              "    </tr>\n",
              "  </thead>\n",
              "  <tbody>\n",
              "    <tr>\n",
              "      <th>deeplift</th>\n",
              "      <td>0.552579</td>\n",
              "    </tr>\n",
              "  </tbody>\n",
              "</table>\n",
              "</div>"
            ],
            "text/plain": [
              "Evaluator  Area under PR Curve\n",
              "Explainer                     \n",
              "deeplift              0.552579"
            ]
          },
          "execution_count": 328,
          "metadata": {},
          "output_type": "execute_result"
        }
      ],
      "source": [
        "metrics= xai_framework.compute_evaluation_metrics(exp_scores)\n",
        "xai_framework.create_pivot_table(metrics)"
      ]
    },
    {
      "cell_type": "markdown",
      "metadata": {},
      "source": [
        "You can also do `Step 3` and `Step 4` together within a single function call."
      ]
    },
    {
      "cell_type": "code",
      "execution_count": 60,
      "metadata": {},
      "outputs": [
        {
          "name": "stdout",
          "output_type": "stream",
          "text": [
            "Processing instance 0\n",
            "Found cached explanation for deeplift\n",
            "Found cached explanation for integratedgradient\n",
            "Found cached explanation for guidedbackprop\n",
            "Found cached explanation for gradientxinput\n",
            "Found cached explanation for saliency\n",
            "Processing instance 1\n",
            "Found cached explanation for deeplift\n",
            "Found cached explanation for integratedgradient\n",
            "Found cached explanation for guidedbackprop\n",
            "Found cached explanation for gradientxinput\n",
            "Found cached explanation for saliency\n",
            "\n",
            "Explainer: deeplift\n",
            "Computing value for Sparseness\n",
            "\n",
            "Explainer: integratedgradient\n",
            "Computing value for Sparseness\n",
            "\n",
            "Explainer: guidedbackprop\n",
            "Computing value for Sparseness\n",
            "\n",
            "Explainer: gradientxinput\n",
            "Computing value for Sparseness\n",
            "\n",
            "Explainer: saliency\n",
            "Computing value for Sparseness\n"
          ]
        },
        {
          "data": {
            "text/html": [
              "<div>\n",
              "<style scoped>\n",
              "    .dataframe tbody tr th:only-of-type {\n",
              "        vertical-align: middle;\n",
              "    }\n",
              "\n",
              "    .dataframe tbody tr th {\n",
              "        vertical-align: top;\n",
              "    }\n",
              "\n",
              "    .dataframe thead th {\n",
              "        text-align: right;\n",
              "    }\n",
              "</style>\n",
              "<table border=\"1\" class=\"dataframe\">\n",
              "  <thead>\n",
              "    <tr style=\"text-align: right;\">\n",
              "      <th>Evaluator</th>\n",
              "      <th>Sparseness</th>\n",
              "    </tr>\n",
              "    <tr>\n",
              "      <th>Explainer</th>\n",
              "      <th></th>\n",
              "    </tr>\n",
              "  </thead>\n",
              "  <tbody>\n",
              "    <tr>\n",
              "      <th>deeplift</th>\n",
              "      <td>0.604327</td>\n",
              "    </tr>\n",
              "    <tr>\n",
              "      <th>gradientxinput</th>\n",
              "      <td>0.580209</td>\n",
              "    </tr>\n",
              "    <tr>\n",
              "      <th>guidedbackprop</th>\n",
              "      <td>0.595807</td>\n",
              "    </tr>\n",
              "    <tr>\n",
              "      <th>integratedgradient</th>\n",
              "      <td>0.591647</td>\n",
              "    </tr>\n",
              "    <tr>\n",
              "      <th>saliency</th>\n",
              "      <td>0.498172</td>\n",
              "    </tr>\n",
              "  </tbody>\n",
              "</table>\n",
              "</div>"
            ],
            "text/plain": [
              "Evaluator           Sparseness\n",
              "Explainer                     \n",
              "deeplift              0.604327\n",
              "gradientxinput        0.580209\n",
              "guidedbackprop        0.595807\n",
              "integratedgradient    0.591647\n",
              "saliency              0.498172"
            ]
          },
          "execution_count": 60,
          "metadata": {},
          "output_type": "execute_result"
        }
      ],
      "source": [
        "xai_framework.benchmark_dataset(input_texts_sample, labels_sample)"
      ]
    }
  ],
  "metadata": {
    "kernelspec": {
      "display_name": "venv",
      "language": "python",
      "name": "python3"
    },
    "language_info": {
      "codemirror_mode": {
        "name": "ipython",
        "version": 3
      },
      "file_extension": ".py",
      "mimetype": "text/x-python",
      "name": "python",
      "nbconvert_exporter": "python",
      "pygments_lexer": "ipython3",
      "version": "3.9.11"
    }
  },
  "nbformat": 4,
  "nbformat_minor": 2
}
